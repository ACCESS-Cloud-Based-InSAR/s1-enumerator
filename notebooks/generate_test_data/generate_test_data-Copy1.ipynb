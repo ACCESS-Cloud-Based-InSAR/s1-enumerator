{
 "cells": [
  {
   "cell_type": "code",
   "execution_count": 1,
   "id": "promotional-probe",
   "metadata": {
    "ExecuteTime": {
     "end_time": "2022-01-14T00:41:51.251352Z",
     "start_time": "2022-01-14T00:41:51.227938Z"
    }
   },
   "outputs": [],
   "source": [
    "%load_ext autoreload\n",
    "%autoreload 2"
   ]
  },
  {
   "cell_type": "code",
   "execution_count": 2,
   "id": "recent-payday",
   "metadata": {
    "ExecuteTime": {
     "end_time": "2022-01-14T00:41:52.242331Z",
     "start_time": "2022-01-14T00:41:51.468700Z"
    }
   },
   "outputs": [],
   "source": [
    "import datetime\n",
    "import geopandas as gpd\n",
    "import pandas as pd\n",
    "from shapely.geometry import Polygon, Point\n",
    "from tqdm import tqdm\n",
    "from pathlib import Path\n",
    "\n",
    "from s1_enumerator.stack import (collect_coverage_tiles, get_earliest_n_dates_per_path, get_s1_stack_by_dataframe)\n",
    "from s1_enumerator import get_aoi_dataframe, enumerate_ifgs, distill_all_pairs"
   ]
  },
  {
   "cell_type": "code",
   "execution_count": 3,
   "id": "destroyed-default",
   "metadata": {
    "ExecuteTime": {
     "end_time": "2022-01-14T00:41:52.269662Z",
     "start_time": "2022-01-14T00:41:52.244086Z"
    }
   },
   "outputs": [],
   "source": [
    "points = [Point(-163.26, 55.11),  # Aleutian \n",
    "          Point(-72.38,19.0),  # Haiti\n",
    "          Point(35.26,38.76),  # Turkey\n",
    "          Point(-120.0048,34.8923), # Los Padres\n",
    "         ]\n",
    "\n",
    "aoi_names = ['aleutian', 'haiti', 'turkey', 'los_padres_ca']"
   ]
  },
  {
   "cell_type": "code",
   "execution_count": 4,
   "id": "spare-discretion",
   "metadata": {
    "ExecuteTime": {
     "end_time": "2022-01-14T00:41:52.296245Z",
     "start_time": "2022-01-14T00:41:52.270813Z"
    }
   },
   "outputs": [],
   "source": [
    "def get_aoi(point: Point) -> Polygon:\n",
    "    return point.buffer(1)"
   ]
  },
  {
   "cell_type": "code",
   "execution_count": 5,
   "id": "conservative-reflection",
   "metadata": {
    "ExecuteTime": {
     "end_time": "2022-01-14T00:41:52.334438Z",
     "start_time": "2022-01-14T00:41:52.299051Z"
    }
   },
   "outputs": [],
   "source": [
    "aois = list(map(get_aoi, points))\n",
    "aoi_dfs = list(map(get_aoi_dataframe, aois))"
   ]
  },
  {
   "cell_type": "code",
   "execution_count": 6,
   "id": "configured-pickup",
   "metadata": {
    "ExecuteTime": {
     "end_time": "2022-01-14T00:41:52.780516Z",
     "start_time": "2022-01-14T00:41:52.395238Z"
    }
   },
   "outputs": [
    {
     "data": {
      "text/plain": [
       "<AxesSubplot:>"
      ]
     },
     "execution_count": 6,
     "metadata": {},
     "output_type": "execute_result"
    },
    {
     "data": {
      "image/png": "[encoded data removed]",
      "text/plain": [
       "<Figure size 432x288 with 1 Axes>"
      ]
     },
     "metadata": {
      "needs_background": "light"
     },
     "output_type": "display_data"
    }
   ],
   "source": [
    "aoi_dfs[2].plot()"
   ]
  },
  {
   "cell_type": "code",
   "execution_count": 7,
   "id": "spectacular-palace",
   "metadata": {
    "ExecuteTime": {
     "end_time": "2022-01-14T00:41:52.810825Z",
     "start_time": "2022-01-14T00:41:52.782350Z"
    }
   },
   "outputs": [],
   "source": [
    "aoi_dir = Path('aoi')\n",
    "aoi_dir.mkdir(exist_ok=True)"
   ]
  },
  {
   "cell_type": "code",
   "execution_count": 8,
   "id": "juvenile-necessity",
   "metadata": {
    "ExecuteTime": {
     "end_time": "2022-01-14T00:41:53.010199Z",
     "start_time": "2022-01-14T00:41:52.955050Z"
    }
   },
   "outputs": [],
   "source": [
    "for df_aoi, name in zip(aoi_dfs, aoi_names):\n",
    "    df_aoi.to_file(aoi_dir/f'{name}.geojson', driver='GeoJSON')"
   ]
  },
  {
   "cell_type": "code",
   "execution_count": 9,
   "id": "rental-obligation",
   "metadata": {
    "ExecuteTime": {
     "end_time": "2022-01-14T00:41:53.298546Z",
     "start_time": "2022-01-14T00:41:53.268392Z"
    }
   },
   "outputs": [
    {
     "data": {
      "text/plain": [
       "[PosixPath('aoi/aleutian.geojson'),\n",
       " PosixPath('aoi/haiti.geojson'),\n",
       " PosixPath('aoi/los_padres_ca.geojson'),\n",
       " PosixPath('aoi/turkey.geojson')]"
      ]
     },
     "execution_count": 9,
     "metadata": {},
     "output_type": "execute_result"
    }
   ],
   "source": [
    "paths = sorted(list(aoi_dir.glob('*.geojson')))\n",
    "paths"
   ]
  },
  {
   "cell_type": "markdown",
   "id": "cutting-attention",
   "metadata": {},
   "source": [
    "# Coverage Test"
   ]
  },
  {
   "cell_type": "code",
   "execution_count": 10,
   "id": "derived-wrestling",
   "metadata": {
    "ExecuteTime": {
     "end_time": "2021-12-01T23:36:33.486865Z",
     "start_time": "2021-12-01T23:36:16.881215Z"
    }
   },
   "outputs": [
    {
     "name": "stderr",
     "output_type": "stream",
     "text": [
      "100%|███████████████████████████████████████████████████████| 4/4 [00:16<00:00,  4.14s/it]\n"
     ]
    }
   ],
   "source": [
    "out_dir = Path('coverage_data')\n",
    "out_dir.mkdir(exist_ok=True)\n",
    "COLS = ['sceneName','start_date_str', 'pathNumber', 'geometry']\n",
    "\n",
    "for path in tqdm(paths):\n",
    "    aoi = gpd.read_file(path).geometry.values[0]\n",
    "    aoi_name = path.name.split('.')[0]    \n",
    "    for n in [1, 2]:\n",
    "        start_date = datetime.datetime(2021, 1, 1)\n",
    "        n_dates_per_path= n \n",
    "        max_results = 1_000\n",
    "        \n",
    "        df_all = collect_coverage_tiles(aoi,\n",
    "                                            start_date,\n",
    "                                            min_dates_per_path=n_dates_per_path,\n",
    "                                            max_results=max_results,\n",
    "                                            path_number=None)\n",
    "        df = get_earliest_n_dates_per_path(df_all, n_dates_per_path)\n",
    "            \n",
    "        \n",
    "        df_all[COLS].to_file(out_dir / f'{aoi_name}_at_least_{n}.geojson', driver='GeoJSON')\n",
    "\n",
    "        df[COLS].to_file(out_dir / f'{aoi_name}_exactly_{n}.geojson', driver='GeoJSON')"
   ]
  },
  {
   "cell_type": "markdown",
   "id": "educational-photography",
   "metadata": {
    "ExecuteTime": {
     "end_time": "2021-11-30T21:36:02.119321Z",
     "start_time": "2021-11-30T21:36:02.115584Z"
    }
   },
   "source": [
    "# Tile Enumeration (Annual Pair)"
   ]
  },
  {
   "cell_type": "code",
   "execution_count": 10,
   "id": "annual-stadium",
   "metadata": {
    "ExecuteTime": {
     "end_time": "2022-01-14T00:44:54.305684Z",
     "start_time": "2022-01-14T00:42:14.764157Z"
    }
   },
   "outputs": [
    {
     "name": "stderr",
     "output_type": "stream",
     "text": [
      "tile:   0%|                                                         | 0/4 [00:00<?, ?it/s]\n",
      "Downloading stack for 4 tiles:   0%|                                | 0/4 [00:00<?, ?it/s]\u001b[A\n",
      "Downloading stack for 4 tiles:  25%|██████                  | 1/4 [00:03<00:10,  3.39s/it]\u001b[A\n",
      "Downloading stack for 4 tiles:  50%|████████████            | 2/4 [00:04<00:04,  2.17s/it]\u001b[A\n",
      "Downloading stack for 4 tiles: 100%|████████████████████████| 4/4 [00:05<00:00,  1.26s/it]\u001b[A\n",
      "tile:  25%|████████████▎                                    | 1/4 [00:09<00:28,  9.34s/it]\n",
      "Downloading stack for 9 tiles:   0%|                                | 0/9 [00:00<?, ?it/s]\u001b[A\n",
      "Downloading stack for 9 tiles:  11%|██▋                     | 1/9 [00:08<01:07,  8.38s/it]\u001b[A\n",
      "Downloading stack for 9 tiles: 100%|████████████████████████| 9/9 [00:09<00:00,  1.05s/it]\u001b[A\n",
      "tile:  50%|████████████████████████▌                        | 2/4 [00:23<00:24, 12.22s/it]\n",
      "Downloading stack for 14 tiles:   0%|                              | 0/14 [00:00<?, ?it/s]\u001b[A\n",
      "Downloading stack for 14 tiles:   7%|█▌                    | 1/14 [00:10<02:21, 10.86s/it]\u001b[A\n",
      "Downloading stack for 14 tiles:  14%|███▏                  | 2/14 [00:22<02:14, 11.24s/it]\u001b[A\n",
      "Downloading stack for 14 tiles: 100%|█████████████████████| 14/14 [00:23<00:00,  1.67s/it]\u001b[A\n",
      "tile:  75%|████████████████████████████████████▊            | 3/4 [00:51<00:19, 19.24s/it]\n",
      "Downloading stack for 12 tiles:   0%|                              | 0/12 [00:00<?, ?it/s]\u001b[A\n",
      "Downloading stack for 12 tiles:   8%|█▊                    | 1/12 [00:14<02:34, 14.07s/it]\u001b[A\n",
      "Downloading stack for 12 tiles:  17%|███▋                  | 2/12 [00:18<01:23,  8.36s/it]\u001b[A\n",
      "Downloading stack for 12 tiles:  33%|███████▎              | 4/12 [00:18<00:25,  3.17s/it]\u001b[A\n",
      "Downloading stack for 12 tiles: 100%|█████████████████████| 12/12 [00:22<00:00,  1.84s/it]\u001b[A\n",
      "tile: 100%|█████████████████████████████████████████████████| 4/4 [01:21<00:00, 20.47s/it]\n",
      "path:   0%|                                                         | 0/4 [00:00<?, ?it/s]\n",
      "Downloading stack for 4 tiles:   0%|                                | 0/4 [00:00<?, ?it/s]\u001b[A\n",
      "Downloading stack for 4 tiles:  25%|██████                  | 1/4 [00:03<00:11,  3.93s/it]\u001b[A\n",
      "Downloading stack for 4 tiles: 100%|████████████████████████| 4/4 [00:04<00:00,  1.23s/it]\u001b[A\n",
      "path:  25%|████████████▎                                    | 1/4 [00:08<00:24,  8.09s/it]\n",
      "Downloading stack for 9 tiles:   0%|                                | 0/9 [00:00<?, ?it/s]\u001b[A\n",
      "Downloading stack for 9 tiles:  11%|██▋                     | 1/9 [00:08<01:07,  8.50s/it]\u001b[A\n",
      "Downloading stack for 9 tiles: 100%|████████████████████████| 9/9 [00:12<00:00,  1.35s/it]\u001b[A\n",
      "path:  50%|████████████████████████▌                        | 2/4 [00:23<00:25, 12.55s/it]\n",
      "Downloading stack for 14 tiles:   0%|                              | 0/14 [00:00<?, ?it/s]\u001b[A\n",
      "Downloading stack for 14 tiles:   7%|█▌                    | 1/14 [00:10<02:21, 10.86s/it]\u001b[A\n",
      "Downloading stack for 14 tiles:  14%|███▏                  | 2/14 [00:10<00:54,  4.54s/it]\u001b[A\n",
      "Downloading stack for 14 tiles: 100%|█████████████████████| 14/14 [00:19<00:00,  1.36s/it]\u001b[A\n",
      "path:  75%|████████████████████████████████████▊            | 3/4 [00:48<00:18, 18.18s/it]\n",
      "Downloading stack for 12 tiles:   0%|                              | 0/12 [00:00<?, ?it/s]\u001b[A\n",
      "Downloading stack for 12 tiles:   8%|█▊                    | 1/12 [00:23<04:23, 23.93s/it]\u001b[A\n",
      "Downloading stack for 12 tiles: 100%|█████████████████████| 12/12 [00:24<00:00,  2.05s/it]\u001b[A\n",
      "path: 100%|█████████████████████████████████████████████████| 4/4 [01:17<00:00, 19.40s/it]\n"
     ]
    }
   ],
   "source": [
    "out_dir = Path('enum_data')\n",
    "out_dir.mkdir(exist_ok=True)\n",
    "\n",
    "num_neighbors_ref = 3\n",
    "num_neighbors_sec = 2\n",
    "\n",
    "for enumeration_type in ['tile', 'path']:\n",
    "    for path in tqdm(paths, desc=enumeration_type):\n",
    "        aoi = gpd.read_file(path).geometry.values[0]\n",
    "        aoi_name = path.name.split('.')[0]    \n",
    "\n",
    "        ifg_pairs_tiles = enumerate_ifgs(aoi,\n",
    "                                         min_reference_date=datetime.datetime(2021, 7, 9), \n",
    "                                         enumeration_type=enumeration_type,\n",
    "                                         min_days_backward = 364, \n",
    "                                         num_neighbors_ref=num_neighbors_ref,\n",
    "                                         num_neighbors_sec=num_neighbors_sec,\n",
    "                                         temporal_window_days=60,\n",
    "                                         min_ref_tile_overlap_perc=.1,\n",
    "                                         min_tile_aoi_overlap_km2=1e3,\n",
    "                                         minimum_path_intersection_km2=1e3,\n",
    "                                         entire_s1_catalog=False\n",
    "                                         )\n",
    "        df_pairs = distill_all_pairs(ifg_pairs_tiles)\n",
    "        df_test = df_pairs.sort_values(by=['path_number', 'reference_date']).reset_index(drop=True)\n",
    "        file_name = f'{aoi_name}_annual_{enumeration_type}.geojson'\n",
    "        df_test.drop(columns=['reference', 'secondary', 'hash_id']).to_file(out_dir/file_name)"
   ]
  },
  {
   "cell_type": "markdown",
   "id": "mature-martial",
   "metadata": {},
   "source": [
    "## Fixed Path Number"
   ]
  },
  {
   "cell_type": "code",
   "execution_count": 11,
   "id": "utility-quick",
   "metadata": {
    "ExecuteTime": {
     "end_time": "2022-01-14T00:45:20.053754Z",
     "start_time": "2022-01-14T00:44:54.307597Z"
    }
   },
   "outputs": [
    {
     "name": "stderr",
     "output_type": "stream",
     "text": [
      "tile:   0%|                                                         | 0/4 [00:00<?, ?it/s]\n",
      "Downloading stack for 3 tiles:   0%|                                | 0/3 [00:00<?, ?it/s]\u001b[A\n",
      "Downloading stack for 3 tiles:  33%|████████                | 1/3 [00:11<00:23, 11.52s/it]\u001b[A\n",
      "Downloading stack for 3 tiles: 100%|████████████████████████| 3/3 [00:11<00:00,  3.97s/it]\u001b[A\n",
      "tile: 100%|█████████████████████████████████████████████████| 4/4 [00:15<00:00,  3.78s/it]\n",
      "path:   0%|                                                         | 0/4 [00:00<?, ?it/s]\n",
      "Downloading stack for 3 tiles:   0%|                                | 0/3 [00:00<?, ?it/s]\u001b[A\n",
      "Downloading stack for 3 tiles:  33%|████████                | 1/3 [00:06<00:13,  6.76s/it]\u001b[A\n",
      "Downloading stack for 3 tiles: 100%|████████████████████████| 3/3 [00:07<00:00,  2.39s/it]\u001b[A\n",
      "path: 100%|█████████████████████████████████████████████████| 4/4 [00:10<00:00,  2.64s/it]\n"
     ]
    }
   ],
   "source": [
    "for enumeration_type in ['tile', 'path']:\n",
    "    for path in tqdm(paths, desc=enumeration_type):\n",
    "        aoi = gpd.read_file(path).geometry.values[0]\n",
    "        aoi_name = path.name.split('.')[0]\n",
    "        if 'padres' not in aoi_name:\n",
    "            continue\n",
    "\n",
    "        ifg_pairs_tiles = enumerate_ifgs(aoi,\n",
    "                                         min_reference_date=datetime.datetime(2021, 7, 9), \n",
    "                                         enumeration_type=enumeration_type,\n",
    "                                         min_days_backward = 364, \n",
    "                                         num_neighbors_ref=num_neighbors_ref,\n",
    "                                         num_neighbors_sec=num_neighbors_sec,\n",
    "                                         temporal_window_days=60,\n",
    "                                         min_ref_tile_overlap_perc=.1,\n",
    "                                         min_tile_aoi_overlap_km2=1e3,\n",
    "                                         minimum_path_intersection_km2=1e3,\n",
    "                                         path_numbers=[137],\n",
    "                                         entire_s1_catalog=False\n",
    "                                         )\n",
    "        df_pairs = distill_all_pairs(ifg_pairs_tiles)\n",
    "        df_test = df_pairs.sort_values(by=['path_number', 'reference_date']).reset_index(drop=True)\n",
    "        file_name = f'{aoi_name}_annual_{enumeration_type}_137.geojson'\n",
    "        df_test.drop(columns=['reference', 'secondary']).to_file(out_dir/file_name)"
   ]
  },
  {
   "cell_type": "markdown",
   "id": "attended-senior",
   "metadata": {},
   "source": [
    "## Fixed Months"
   ]
  },
  {
   "cell_type": "code",
   "execution_count": 15,
   "id": "celtic-plymouth",
   "metadata": {
    "ExecuteTime": {
     "end_time": "2021-12-01T23:39:24.039548Z",
     "start_time": "2021-12-01T23:39:04.359782Z"
    }
   },
   "outputs": [
    {
     "name": "stderr",
     "output_type": "stream",
     "text": [
      "tile:   0%|                                                         | 0/4 [00:00<?, ?it/s]\n",
      "Downloading stack for 3 tiles:   0%|                                | 0/3 [00:00<?, ?it/s]\u001b[A\n",
      "Downloading stack for 3 tiles:  33%|████████                | 1/3 [00:05<00:10,  5.26s/it]\u001b[A\n",
      "Downloading stack for 3 tiles: 100%|████████████████████████| 3/3 [00:07<00:00,  2.43s/it]\u001b[A\n",
      "tile: 100%|█████████████████████████████████████████████████| 4/4 [00:10<00:00,  2.59s/it]\n",
      "path:   0%|                                                         | 0/4 [00:00<?, ?it/s]\n",
      "Downloading stack for 3 tiles:   0%|                                | 0/3 [00:00<?, ?it/s]\u001b[A\n",
      "Downloading stack for 3 tiles:  33%|████████                | 1/3 [00:06<00:12,  6.34s/it]\u001b[A\n",
      "Downloading stack for 3 tiles:  67%|████████████████        | 2/3 [00:06<00:02,  2.72s/it]\u001b[A\n",
      "Downloading stack for 3 tiles: 100%|████████████████████████| 3/3 [00:07<00:00,  2.37s/it]\u001b[A\n",
      "path: 100%|█████████████████████████████████████████████████| 4/4 [00:09<00:00,  2.32s/it]\n"
     ]
    }
   ],
   "source": [
    "for enumeration_type in ['tile', 'path']:\n",
    "    for path in tqdm(paths, desc=enumeration_type):\n",
    "        aoi = gpd.read_file(path).geometry.values[0]\n",
    "        aoi_name = path.name.split('.')[0]\n",
    "        if 'padres' not in aoi_name:\n",
    "            continue\n",
    "\n",
    "        ifg_pairs_tiles = enumerate_ifgs(aoi,\n",
    "                                         min_reference_date=datetime.datetime(2021, 7, 9), \n",
    "                                         enumeration_type=enumeration_type,\n",
    "                                         min_days_backward = 364, \n",
    "                                         num_neighbors_ref=num_neighbors_ref,\n",
    "                                         num_neighbors_sec=num_neighbors_sec,\n",
    "                                         temporal_window_days=60,\n",
    "                                         min_ref_tile_overlap_perc=.1,\n",
    "                                         min_tile_aoi_overlap_km2=1e3,\n",
    "                                         minimum_path_intersection_km2=1e3,\n",
    "                                         path_numbers=[137],\n",
    "                                         months=[7, 8],\n",
    "                                         entire_s1_catalog=False\n",
    "                                         )\n",
    "        df_pairs = distill_all_pairs(ifg_pairs_tiles)\n",
    "        df_test = df_pairs.sort_values(by=['path_number', 'reference_date']).reset_index(drop=True)\n",
    "        file_name = f'{aoi_name}_annual_{enumeration_type}_fixed_months_137.geojson'\n",
    "        df_test.drop(columns=['reference', 'secondary']).to_file(out_dir/file_name)"
   ]
  }
 ],
 "metadata": {
  "interpreter": {
   "hash": "8d8f500daa9bf167d031a7ee53ec5418ea1a519591c0a1a22c03ecd26311e773"
  },
  "kernelspec": {
   "display_name": "s1-enumerator",
   "language": "python",
   "name": "s1-enumerator"
  },
  "language_info": {
   "codemirror_mode": {
    "name": "ipython",
    "version": 3
   },
   "file_extension": ".py",
   "mimetype": "text/x-python",
   "name": "python",
   "nbconvert_exporter": "python",
   "pygments_lexer": "ipython3",
   "version": "3.9.7"
  }
 },
 "nbformat": 4,
 "nbformat_minor": 5
}
