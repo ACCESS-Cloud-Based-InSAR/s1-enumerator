{
 "cells": [
  {
   "cell_type": "code",
   "execution_count": 1,
   "id": "indie-logistics",
   "metadata": {
    "ExecuteTime": {
     "end_time": "2021-12-01T23:36:15.655186Z",
     "start_time": "2021-12-01T23:36:15.631097Z"
    }
   },
   "outputs": [],
   "source": [
    "%load_ext autoreload\n",
    "%autoreload 2"
   ]
  },
  {
   "cell_type": "code",
   "execution_count": 2,
   "id": "appropriate-finish",
   "metadata": {
    "ExecuteTime": {
     "end_time": "2021-12-01T23:36:16.293438Z",
     "start_time": "2021-12-01T23:36:15.656868Z"
    }
   },
   "outputs": [],
   "source": [
    "import datetime\n",
    "import geopandas as gpd\n",
    "import pandas as pd\n",
    "from shapely.geometry import Polygon, Point\n",
    "from tqdm import tqdm\n",
    "from pathlib import Path\n",
    "\n",
    "from s1_enumerator.stack import (collect_coverage_tiles, get_earliest_n_dates_per_path, get_s1_stack_by_dataframe)\n",
    "from s1_enumerator import get_aoi_dataframe, enumerate_ifgs, distill_all_pairs"
   ]
  },
  {
   "cell_type": "code",
   "execution_count": 3,
   "id": "precise-melissa",
   "metadata": {
    "ExecuteTime": {
     "end_time": "2021-12-01T23:36:16.322938Z",
     "start_time": "2021-12-01T23:36:16.294598Z"
    }
   },
   "outputs": [],
   "source": [
    "points = [Point(-163.26, 55.11),  # Aleutian \n",
    "          Point(-72.38,19.0),  # Haiti\n",
    "          Point(35.26,38.76),  # Turkey\n",
    "          Point(-120.0048,34.8923), # Los Padres\n",
    "         ]\n",
    "\n",
    "aoi_names = ['aleutian', 'haiti', 'turkey', 'los_padres_ca']"
   ]
  },
  {
   "cell_type": "code",
   "execution_count": 4,
   "id": "olive-teacher",
   "metadata": {
    "ExecuteTime": {
     "end_time": "2021-12-01T23:36:16.355215Z",
     "start_time": "2021-12-01T23:36:16.325114Z"
    }
   },
   "outputs": [],
   "source": [
    "def get_aoi(point: Point) -> Polygon:\n",
    "    return point.buffer(1)"
   ]
  },
  {
   "cell_type": "code",
   "execution_count": 5,
   "id": "russian-ladder",
   "metadata": {
    "ExecuteTime": {
     "end_time": "2021-12-01T23:36:16.396881Z",
     "start_time": "2021-12-01T23:36:16.358654Z"
    }
   },
   "outputs": [],
   "source": [
    "aois = list(map(get_aoi, points))\n",
    "aoi_dfs = list(map(get_aoi_dataframe, aois))"
   ]
  },
  {
   "cell_type": "code",
   "execution_count": 6,
   "id": "addressed-brunswick",
   "metadata": {
    "ExecuteTime": {
     "end_time": "2021-12-01T23:36:16.751634Z",
     "start_time": "2021-12-01T23:36:16.398085Z"
    }
   },
   "outputs": [
    {
     "data": {
      "text/plain": [
       "<AxesSubplot:>"
      ]
     },
     "execution_count": 6,
     "metadata": {},
     "output_type": "execute_result"
    },
    {
     "data": {
      "image/png": "[encoded data removed]",
      "text/plain": [
       "<Figure size 432x288 with 1 Axes>"
      ]
     },
     "metadata": {
      "needs_background": "light"
     },
     "output_type": "display_data"
    }
   ],
   "source": [
    "aoi_dfs[2].plot()"
   ]
  },
  {
   "cell_type": "code",
   "execution_count": 7,
   "id": "combined-qatar",
   "metadata": {
    "ExecuteTime": {
     "end_time": "2021-12-01T23:36:16.785742Z",
     "start_time": "2021-12-01T23:36:16.753226Z"
    }
   },
   "outputs": [],
   "source": [
    "aoi_dir = Path('aoi')\n",
    "aoi_dir.mkdir(exist_ok=True)"
   ]
  },
  {
   "cell_type": "code",
   "execution_count": 8,
   "id": "greenhouse-bridge",
   "metadata": {
    "ExecuteTime": {
     "end_time": "2021-12-01T23:36:16.844993Z",
     "start_time": "2021-12-01T23:36:16.787326Z"
    }
   },
   "outputs": [],
   "source": [
    "for df_aoi, name in zip(aoi_dfs, aoi_names):\n",
    "    df_aoi.to_file(aoi_dir/f'{name}.geojson', driver='GeoJSON')"
   ]
  },
  {
   "cell_type": "code",
   "execution_count": 9,
   "id": "statistical-validation",
   "metadata": {
    "ExecuteTime": {
     "end_time": "2021-12-01T23:36:16.879812Z",
     "start_time": "2021-12-01T23:36:16.847851Z"
    }
   },
   "outputs": [
    {
     "data": {
      "text/plain": [
       "[PosixPath('aoi/aleutian.geojson'),\n",
       " PosixPath('aoi/haiti.geojson'),\n",
       " PosixPath('aoi/los_padres_ca.geojson'),\n",
       " PosixPath('aoi/turkey.geojson')]"
      ]
     },
     "execution_count": 9,
     "metadata": {},
     "output_type": "execute_result"
    }
   ],
   "source": [
    "paths = sorted(list(aoi_dir.glob('*.geojson')))\n",
    "paths"
   ]
  },
  {
   "cell_type": "markdown",
   "id": "alternative-newport",
   "metadata": {},
   "source": [
    "# Coverage Test"
   ]
  },
  {
   "cell_type": "code",
   "execution_count": 10,
   "id": "early-winning",
   "metadata": {
    "ExecuteTime": {
     "end_time": "2021-12-01T23:36:33.486865Z",
     "start_time": "2021-12-01T23:36:16.881215Z"
    }
   },
   "outputs": [
    {
     "name": "stderr",
     "output_type": "stream",
     "text": [
      "100%|███████████████████████████████████████████████████████| 4/4 [00:16<00:00,  4.14s/it]\n"
     ]
    }
   ],
   "source": [
    "out_dir = Path('coverage_data')\n",
    "out_dir.mkdir(exist_ok=True)\n",
    "COLS = ['sceneName','start_date_str', 'pathNumber', 'geometry']\n",
    "\n",
    "for path in tqdm(paths):\n",
    "    aoi = gpd.read_file(path).geometry.values[0]\n",
    "    aoi_name = path.name.split('.')[0]    \n",
    "    for n in [1, 2]:\n",
    "        start_date = datetime.datetime(2021, 1, 1)\n",
    "        n_dates_per_path= n \n",
    "        max_results = 1_000\n",
    "        \n",
    "        df_all = collect_coverage_tiles(aoi,\n",
    "                                            start_date,\n",
    "                                            min_dates_per_path=n_dates_per_path,\n",
    "                                            max_results=max_results,\n",
    "                                            path_number=None)\n",
    "        df = get_earliest_n_dates_per_path(df_all, n_dates_per_path)\n",
    "            \n",
    "        \n",
    "        df_all[COLS].to_file(out_dir / f'{aoi_name}_at_least_{n}.geojson', driver='GeoJSON')\n",
    "\n",
    "        df[COLS].to_file(out_dir / f'{aoi_name}_exactly_{n}.geojson', driver='GeoJSON')"
   ]
  },
  {
   "cell_type": "markdown",
   "id": "recognized-heath",
   "metadata": {
    "ExecuteTime": {
     "end_time": "2021-11-30T21:36:02.119321Z",
     "start_time": "2021-11-30T21:36:02.115584Z"
    }
   },
   "source": [
    "# Tile Enumeration (Annual Pair)"
   ]
  },
  {
   "cell_type": "code",
   "execution_count": 11,
   "id": "square-nightlife",
   "metadata": {
    "ExecuteTime": {
     "end_time": "2021-12-01T23:38:29.217546Z",
     "start_time": "2021-12-01T23:36:33.488329Z"
    }
   },
   "outputs": [
    {
     "name": "stderr",
     "output_type": "stream",
     "text": [
      "tile:   0%|                                                         | 0/4 [00:00<?, ?it/s]\n",
      "Downloading stack for 4 tiles:   0%|                                | 0/4 [00:00<?, ?it/s]\u001b[A\n",
      "Downloading stack for 4 tiles:  25%|██████                  | 1/4 [00:03<00:10,  3.64s/it]\u001b[A\n",
      "Downloading stack for 4 tiles:  75%|██████████████████      | 3/4 [00:03<00:01,  1.05s/it]\u001b[A\n",
      "Downloading stack for 4 tiles: 100%|████████████████████████| 4/4 [00:04<00:00,  1.04s/it]\u001b[A\n",
      "tile:  25%|████████████▎                                    | 1/4 [00:06<00:20,  6.87s/it]\n",
      "Downloading stack for 9 tiles:   0%|                                | 0/9 [00:00<?, ?it/s]\u001b[A\n",
      "Downloading stack for 9 tiles:  11%|██▋                     | 1/9 [00:04<00:36,  4.57s/it]\u001b[A\n",
      "Downloading stack for 9 tiles: 100%|████████████████████████| 9/9 [00:10<00:00,  1.14s/it]\u001b[A\n",
      "tile:  50%|████████████████████████▌                        | 2/4 [00:20<00:21, 10.98s/it]\n",
      "Downloading stack for 14 tiles:   0%|                              | 0/14 [00:00<?, ?it/s]\u001b[A\n",
      "Downloading stack for 14 tiles:   7%|█▌                    | 1/14 [00:08<01:53,  8.74s/it]\u001b[A\n",
      "Downloading stack for 14 tiles:  14%|███▏                  | 2/14 [00:13<01:17,  6.42s/it]\u001b[A\n",
      "Downloading stack for 14 tiles: 100%|█████████████████████| 14/14 [00:13<00:00,  1.02it/s]\u001b[A\n",
      "tile:  75%|████████████████████████████████████▊            | 3/4 [00:38<00:14, 14.04s/it]\n",
      "Downloading stack for 12 tiles:   0%|                              | 0/12 [00:00<?, ?it/s]\u001b[A\n",
      "Downloading stack for 12 tiles:   8%|█▊                    | 1/12 [00:13<02:31, 13.75s/it]\u001b[A\n",
      "Downloading stack for 12 tiles:  25%|█████▌                | 3/12 [00:15<00:38,  4.24s/it]\u001b[A\n",
      "Downloading stack for 12 tiles: 100%|█████████████████████| 12/12 [00:17<00:00,  1.45s/it]\u001b[A\n",
      "tile: 100%|█████████████████████████████████████████████████| 4/4 [01:00<00:00, 15.15s/it]\n",
      "path:   0%|                                                         | 0/4 [00:00<?, ?it/s]\n",
      "Downloading stack for 4 tiles:   0%|                                | 0/4 [00:00<?, ?it/s]\u001b[A\n",
      "Downloading stack for 4 tiles:  25%|██████                  | 1/4 [00:02<00:07,  2.41s/it]\u001b[A\n",
      "Downloading stack for 4 tiles:  50%|████████████            | 2/4 [00:03<00:03,  1.58s/it]\u001b[A\n",
      "Downloading stack for 4 tiles: 100%|████████████████████████| 4/4 [00:05<00:00,  1.33s/it]\u001b[A\n",
      "path:  25%|████████████▎                                    | 1/4 [00:07<00:23,  7.78s/it]\n",
      "Downloading stack for 9 tiles:   0%|                                | 0/9 [00:00<?, ?it/s]\u001b[A\n",
      "Downloading stack for 9 tiles:  11%|██▋                     | 1/9 [00:06<00:53,  6.67s/it]\u001b[A\n",
      "Downloading stack for 9 tiles:  33%|████████                | 3/9 [00:07<00:11,  1.89s/it]\u001b[A\n",
      "Downloading stack for 9 tiles: 100%|████████████████████████| 9/9 [00:07<00:00,  1.20it/s]\u001b[A\n",
      "path:  50%|████████████████████████▌                        | 2/4 [00:17<00:18,  9.02s/it]\n",
      "Downloading stack for 14 tiles:   0%|                              | 0/14 [00:00<?, ?it/s]\u001b[A\n",
      "Downloading stack for 14 tiles:   7%|█▌                    | 1/14 [00:10<02:10, 10.08s/it]\u001b[A\n",
      "Downloading stack for 14 tiles:  14%|███▏                  | 2/14 [00:11<01:01,  5.10s/it]\u001b[A\n",
      "Downloading stack for 14 tiles: 100%|█████████████████████| 14/14 [00:14<00:00,  1.02s/it]\u001b[A\n",
      "path:  75%|████████████████████████████████████▊            | 3/4 [00:34<00:12, 12.71s/it]\n",
      "Downloading stack for 12 tiles:   0%|                              | 0/12 [00:00<?, ?it/s]\u001b[A\n",
      "Downloading stack for 12 tiles:   8%|█▊                    | 1/12 [00:08<01:33,  8.50s/it]\u001b[A\n",
      "Downloading stack for 12 tiles:  17%|███▋                  | 2/12 [00:10<00:45,  4.54s/it]\u001b[A\n",
      "Downloading stack for 12 tiles:  25%|█████▌                | 3/12 [00:15<00:43,  4.89s/it]\u001b[A\n",
      "Downloading stack for 12 tiles: 100%|█████████████████████| 12/12 [00:17<00:00,  1.43s/it]\u001b[A\n",
      "path: 100%|█████████████████████████████████████████████████| 4/4 [00:55<00:00, 13.77s/it]\n"
     ]
    }
   ],
   "source": [
    "out_dir = Path('enum_data')\n",
    "out_dir.mkdir(exist_ok=True)\n",
    "\n",
    "num_neighbors_ref = 3\n",
    "num_neighbors_sec = 2\n",
    "\n",
    "for enumeration_type in ['tile', 'path']:\n",
    "    for path in tqdm(paths, desc=enumeration_type):\n",
    "        aoi = gpd.read_file(path).geometry.values[0]\n",
    "        aoi_name = path.name.split('.')[0]    \n",
    "\n",
    "        ifg_pairs_tiles = enumerate_ifgs(aoi,\n",
    "                                         min_reference_date=datetime.datetime(2021, 7, 9), \n",
    "                                         enumeration_type=enumeration_type,\n",
    "                                         min_days_backward = 364, \n",
    "                                         num_neighbors_ref=num_neighbors_ref,\n",
    "                                         num_neighbors_sec=num_neighbors_sec,\n",
    "                                         temporal_window_days=60,\n",
    "                                         min_ref_tile_overlap_perc=.1,\n",
    "                                         min_tile_aoi_overlap_km2=1e3,\n",
    "                                         minimum_path_intersection_km2=1e3,\n",
    "                                         entire_s1_catalog=False\n",
    "                                         )\n",
    "        df_pairs = distill_all_pairs(ifg_pairs_tiles)\n",
    "        df_test = df_pairs.sort_values(by=['path_number', 'reference_date']).reset_index(drop=True)\n",
    "        file_name = f'{aoi_name}_annual_{enumeration_type}.geojson'\n",
    "        df_test.drop(columns=['reference', 'secondary']).to_file(out_dir/file_name)"
   ]
  },
  {
   "cell_type": "markdown",
   "id": "designing-demographic",
   "metadata": {},
   "source": [
    "## Fixed Path Number"
   ]
  },
  {
   "cell_type": "code",
   "execution_count": 14,
   "id": "literary-angel",
   "metadata": {
    "ExecuteTime": {
     "end_time": "2021-12-01T23:39:04.357646Z",
     "start_time": "2021-12-01T23:38:42.667746Z"
    }
   },
   "outputs": [
    {
     "name": "stderr",
     "output_type": "stream",
     "text": [
      "tile:   0%|                                                         | 0/4 [00:00<?, ?it/s]\n",
      "Downloading stack for 3 tiles:   0%|                                | 0/3 [00:00<?, ?it/s]\u001b[A\n",
      "Downloading stack for 3 tiles:  33%|████████                | 1/3 [00:08<00:17,  8.56s/it]\u001b[A\n",
      "Downloading stack for 3 tiles: 100%|████████████████████████| 3/3 [00:09<00:00,  3.27s/it]\u001b[A\n",
      "tile: 100%|█████████████████████████████████████████████████| 4/4 [00:12<00:00,  3.14s/it]\n",
      "path:   0%|                                                         | 0/4 [00:00<?, ?it/s]\n",
      "Downloading stack for 3 tiles:   0%|                                | 0/3 [00:00<?, ?it/s]\u001b[A\n",
      "Downloading stack for 3 tiles:  33%|████████                | 1/3 [00:06<00:12,  6.25s/it]\u001b[A\n",
      "Downloading stack for 3 tiles: 100%|████████████████████████| 3/3 [00:06<00:00,  2.32s/it]\u001b[A\n",
      "path: 100%|█████████████████████████████████████████████████| 4/4 [00:09<00:00,  2.28s/it]\n"
     ]
    }
   ],
   "source": [
    "for enumeration_type in ['tile', 'path']:\n",
    "    for path in tqdm(paths, desc=enumeration_type):\n",
    "        aoi = gpd.read_file(path).geometry.values[0]\n",
    "        aoi_name = path.name.split('.')[0]\n",
    "        if 'padres' not in aoi_name:\n",
    "            continue\n",
    "\n",
    "        ifg_pairs_tiles = enumerate_ifgs(aoi,\n",
    "                                         min_reference_date=datetime.datetime(2021, 7, 9), \n",
    "                                         enumeration_type=enumeration_type,\n",
    "                                         min_days_backward = 364, \n",
    "                                         num_neighbors_ref=num_neighbors_ref,\n",
    "                                         num_neighbors_sec=num_neighbors_sec,\n",
    "                                         temporal_window_days=60,\n",
    "                                         min_ref_tile_overlap_perc=.1,\n",
    "                                         min_tile_aoi_overlap_km2=1e3,\n",
    "                                         minimum_path_intersection_km2=1e3,\n",
    "                                         path_numbers=[137],\n",
    "                                         entire_s1_catalog=False\n",
    "                                         )\n",
    "        df_pairs = distill_all_pairs(ifg_pairs_tiles)\n",
    "        df_test = df_pairs.sort_values(by=['path_number', 'reference_date']).reset_index(drop=True)\n",
    "        file_name = f'{aoi_name}_annual_{enumeration_type}_137.geojson'\n",
    "        df_test.drop(columns=['reference', 'secondary']).to_file(out_dir/file_name)"
   ]
  },
  {
   "cell_type": "markdown",
   "id": "amended-letter",
   "metadata": {},
   "source": [
    "## Fixed Months"
   ]
  },
  {
   "cell_type": "code",
   "execution_count": 15,
   "id": "running-identity",
   "metadata": {
    "ExecuteTime": {
     "end_time": "2021-12-01T23:39:24.039548Z",
     "start_time": "2021-12-01T23:39:04.359782Z"
    }
   },
   "outputs": [
    {
     "name": "stderr",
     "output_type": "stream",
     "text": [
      "tile:   0%|                                                         | 0/4 [00:00<?, ?it/s]\n",
      "Downloading stack for 3 tiles:   0%|                                | 0/3 [00:00<?, ?it/s]\u001b[A\n",
      "Downloading stack for 3 tiles:  33%|████████                | 1/3 [00:05<00:10,  5.26s/it]\u001b[A\n",
      "Downloading stack for 3 tiles: 100%|████████████████████████| 3/3 [00:07<00:00,  2.43s/it]\u001b[A\n",
      "tile: 100%|█████████████████████████████████████████████████| 4/4 [00:10<00:00,  2.59s/it]\n",
      "path:   0%|                                                         | 0/4 [00:00<?, ?it/s]\n",
      "Downloading stack for 3 tiles:   0%|                                | 0/3 [00:00<?, ?it/s]\u001b[A\n",
      "Downloading stack for 3 tiles:  33%|████████                | 1/3 [00:06<00:12,  6.34s/it]\u001b[A\n",
      "Downloading stack for 3 tiles:  67%|████████████████        | 2/3 [00:06<00:02,  2.72s/it]\u001b[A\n",
      "Downloading stack for 3 tiles: 100%|████████████████████████| 3/3 [00:07<00:00,  2.37s/it]\u001b[A\n",
      "path: 100%|█████████████████████████████████████████████████| 4/4 [00:09<00:00,  2.32s/it]\n"
     ]
    }
   ],
   "source": [
    "for enumeration_type in ['tile', 'path']:\n",
    "    for path in tqdm(paths, desc=enumeration_type):\n",
    "        aoi = gpd.read_file(path).geometry.values[0]\n",
    "        aoi_name = path.name.split('.')[0]\n",
    "        if 'padres' not in aoi_name:\n",
    "            continue\n",
    "\n",
    "        ifg_pairs_tiles = enumerate_ifgs(aoi,\n",
    "                                         min_reference_date=datetime.datetime(2021, 7, 9), \n",
    "                                         enumeration_type=enumeration_type,\n",
    "                                         min_days_backward = 364, \n",
    "                                         num_neighbors_ref=num_neighbors_ref,\n",
    "                                         num_neighbors_sec=num_neighbors_sec,\n",
    "                                         temporal_window_days=60,\n",
    "                                         min_ref_tile_overlap_perc=.1,\n",
    "                                         min_tile_aoi_overlap_km2=1e3,\n",
    "                                         minimum_path_intersection_km2=1e3,\n",
    "                                         path_numbers=[137],\n",
    "                                         months=[7, 8],\n",
    "                                         entire_s1_catalog=False\n",
    "                                         )\n",
    "        df_pairs = distill_all_pairs(ifg_pairs_tiles)\n",
    "        df_test = df_pairs.sort_values(by=['path_number', 'reference_date']).reset_index(drop=True)\n",
    "        file_name = f'{aoi_name}_annual_{enumeration_type}_fixed_months_137.geojson'\n",
    "        df_test.drop(columns=['reference', 'secondary']).to_file(out_dir/file_name)"
   ]
  }
 ],
 "metadata": {
  "interpreter": {
   "hash": "8d8f500daa9bf167d031a7ee53ec5418ea1a519591c0a1a22c03ecd26311e773"
  },
  "kernelspec": {
   "display_name": "s1-enumerator",
   "language": "python",
   "name": "s1-enumerator"
  },
  "language_info": {
   "codemirror_mode": {
    "name": "ipython",
    "version": 3
   },
   "file_extension": ".py",
   "mimetype": "text/x-python",
   "name": "python",
   "nbconvert_exporter": "python",
   "pygments_lexer": "ipython3",
   "version": "3.9.7"
  }
 },
 "nbformat": 4,
 "nbformat_minor": 5
}
