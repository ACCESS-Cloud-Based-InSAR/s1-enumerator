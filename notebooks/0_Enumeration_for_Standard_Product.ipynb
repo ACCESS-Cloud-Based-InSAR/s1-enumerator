{
 "cells": [
  {
   "cell_type": "code",
   "execution_count": 1,
   "metadata": {
    "ExecuteTime": {
     "end_time": "2021-11-22T22:48:08.907799Z",
     "start_time": "2021-11-22T22:48:08.885350Z"
    }
   },
   "outputs": [],
   "source": [
    "%load_ext autoreload\n",
    "%autoreload 2"
   ]
  },
  {
   "cell_type": "code",
   "execution_count": 2,
   "metadata": {
    "ExecuteTime": {
     "end_time": "2021-11-22T22:48:09.775336Z",
     "start_time": "2021-11-22T22:48:08.909447Z"
    }
   },
   "outputs": [],
   "source": [
    "from s1_enumerator import get_aoi_dataframe, enumerate_by_tile, distill_all_pairs\n",
    "import concurrent\n",
    "from tqdm import tqdm\n",
    "from s1_enumerator import duplicate_gunw_found\n",
    "\n",
    "from shapely.geometry import Point\n",
    "import datetime\n",
    "import pandas as pd\n",
    "import matplotlib.pyplot as plt"
   ]
  },
  {
   "cell_type": "code",
   "execution_count": 3,
   "metadata": {
    "ExecuteTime": {
     "end_time": "2021-11-22T22:48:09.927452Z",
     "start_time": "2021-11-22T22:48:09.776713Z"
    }
   },
   "outputs": [
    {
     "data": {
      "text/plain": [
       "<AxesSubplot:>"
      ]
     },
     "execution_count": 3,
     "metadata": {},
     "output_type": "execute_result"
    },
    {
     "data": {
      "image/png": "[encoded data removed]",
      "text/plain": [
       "<Figure size 432x288 with 1 Axes>"
      ]
     },
     "metadata": {
      "needs_background": "light"
     },
     "output_type": "display_data"
    }
   ],
   "source": [
    "# Over Los Padres National Forest, CA\n",
    "point = Point(-120.0048,34.8923)\n",
    "aoi = point.buffer(1)\n",
    "df_aoi = get_aoi_dataframe(aoi)\n",
    "df_aoi.plot()"
   ]
  },
  {
   "cell_type": "markdown",
   "metadata": {},
   "source": [
    "# Standard Product Enumeration\n",
    "\n",
    "Gets all tiles that cover AOI and then find suitable sets to generate interferograms.\n",
    "\n",
    "Specifics:\n",
    "\n",
    "- Requires each tile has 80% overlap with AOI, relative to tile. Since S1 footprints are fixed this can be translated to absolute area. The percentage can be modified with keyword arguments.\n",
    "- Requires secondary tiles to have at least 10% overlap with reference tile used for interferogram\n",
    "- When comparing to the entire S1 catalog, it fixes the reference as the earliest date after `min_reference_date`.\n",
    "- Due to the nuanced nature of enumeration, we download the metadata for *all the tiles* that intersect the AOI. We cannot use the current `ASF` stack because it assumes each date has a *single* intersection with the reference tile. We can sometimes use two secondary tiles to obtain sufficient coverage.\n",
    "\n",
    "## Enumeration over 1 year\n",
    "\n",
    "- `min_days_backward` refers to the fact all pairs will have at least a certain number of days between pairs. Secondary sets are selected as the latest dates that still have this space. \n",
    "- `num_neighbors` is the number of dates that can be used for interferograms. This will determine the number of interferograms that are generated. Generally (unless there is some unusual unavailability), the total number of interferograms (i.e. `len(ifg_pairs_tiles)` below) should be divisible by `num_neighbors`."
   ]
  },
  {
   "cell_type": "code",
   "execution_count": 4,
   "metadata": {
    "ExecuteTime": {
     "end_time": "2021-11-22T22:48:46.999730Z",
     "start_time": "2021-11-22T22:48:09.929747Z"
    }
   },
   "outputs": [
    {
     "name": "stderr",
     "output_type": "stream",
     "text": [
      "Downloading stack for 28 tiles: 100%|█████████████████████████████████████████████████████████████████████████████████████████████████████████████████| 28/28 [00:34<00:00,  1.23s/it]\n",
      "1 period(s) of 365 days:   0%|                                                                                                                                  | 0/1 [00:00<?, ?it/s]\n",
      "tiles:   0%|                                                                                                                                                    | 0/3 [00:00<?, ?it/s]\u001b[A\n",
      "tiles:  33%|██████████████████████████████████████████████▋                                                                                             | 1/3 [00:00<00:00,  9.46it/s]\u001b[A\n",
      "tiles:  67%|█████████████████████████████████████████████████████████████████████████████████████████████▎                                              | 2/3 [00:00<00:00,  9.29it/s]\u001b[A\n",
      "tiles: 100%|████████████████████████████████████████████████████████████████████████████████████████████████████████████████████████████████████████████| 3/3 [00:00<00:00,  9.31it/s]\u001b[A\n",
      "1 period(s) of 365 days: 100%|██████████████████████████████████████████████████████████████████████████████████████████████████████████████████████████| 1/1 [00:00<00:00,  3.07it/s]\n"
     ]
    }
   ],
   "source": [
    "num_neighbors = 3\n",
    "ifg_pairs_tiles = enumerate_by_tile(aoi,\n",
    "                                    min_reference_date=datetime.datetime(2021, 7, 9), \n",
    "                                    min_days_backward = 365, \n",
    "                                    num_neighbors=num_neighbors,\n",
    "                                    entire_s1_catalog=False\n",
    "                                    )"
   ]
  },
  {
   "cell_type": "code",
   "execution_count": 5,
   "metadata": {
    "ExecuteTime": {
     "end_time": "2021-11-22T22:48:47.052532Z",
     "start_time": "2021-11-22T22:48:47.003330Z"
    }
   },
   "outputs": [
    {
     "name": "stdout",
     "output_type": "stream",
     "text": [
      "total GUNWs (N):  9\n",
      "Remainder of N with num_neighbors (3):  0\n"
     ]
    }
   ],
   "source": [
    "N = len(ifg_pairs_tiles)\n",
    "print('total GUNWs (N): ', N)\n",
    "print(f'Remainder of N with num_neighbors ({num_neighbors}): ', N % num_neighbors)"
   ]
  },
  {
   "cell_type": "code",
   "execution_count": 6,
   "metadata": {
    "ExecuteTime": {
     "end_time": "2021-11-22T22:48:47.330269Z",
     "start_time": "2021-11-22T22:48:47.054614Z"
    }
   },
   "outputs": [
    {
     "data": {
      "text/plain": [
       "<AxesSubplot:>"
      ]
     },
     "execution_count": 6,
     "metadata": {},
     "output_type": "execute_result"
    },
    {
     "data": {
      "image/png": "[encoded data removed]",
      "text/plain": [
       "<Figure size 432x288 with 2 Axes>"
      ]
     },
     "metadata": {
      "needs_background": "light"
     },
     "output_type": "display_data"
    }
   ],
   "source": [
    "J = 7\n",
    "pair = ifg_pairs_tiles[J]\n",
    "\n",
    "fig, axs = plt.subplots(1, 2, sharey=True, sharex=True)\n",
    "\n",
    "df_ref_plot = pair['reference']\n",
    "df_sec_plot = pair['secondary']\n",
    "\n",
    "df_ref_plot.plot(column='start_date_str', \n",
    "                 legend=True, \n",
    "                 ax=axs[0], alpha=.25)\n",
    "df_aoi.plot(ax=axs[0], alpha=.5, color='green')\n",
    "\n",
    "df_sec_plot.plot(column='start_date_str', \n",
    "                 legend=True, \n",
    "                 ax=axs[1], alpha=.25)\n",
    "df_aoi.plot(ax=axs[1], alpha=.5, color='green')"
   ]
  },
  {
   "cell_type": "code",
   "execution_count": 7,
   "metadata": {
    "ExecuteTime": {
     "end_time": "2021-11-22T22:48:47.618604Z",
     "start_time": "2021-11-22T22:48:47.331725Z"
    }
   },
   "outputs": [
    {
     "data": {
      "text/plain": [
       "<AxesSubplot:>"
      ]
     },
     "execution_count": 7,
     "metadata": {},
     "output_type": "execute_result"
    },
    {
     "data": {
      "image/png": "[encoded data removed]",
      "text/plain": [
       "<Figure size 432x288 with 2 Axes>"
      ]
     },
     "metadata": {
      "needs_background": "light"
     },
     "output_type": "display_data"
    }
   ],
   "source": [
    "J = 8\n",
    "pair = ifg_pairs_tiles[J]\n",
    "\n",
    "fig, axs = plt.subplots(1, 2, sharey=True, sharex=True)\n",
    "\n",
    "df_ref_plot = pair['reference']\n",
    "df_sec_plot = pair['secondary']\n",
    "\n",
    "df_ref_plot.plot(column='start_date_str', \n",
    "                 legend=True, \n",
    "                 ax=axs[0], alpha=.25)\n",
    "df_aoi.plot(ax=axs[0], alpha=.5, color='green')\n",
    "\n",
    "df_sec_plot.plot(column='start_date_str', \n",
    "                 legend=True, \n",
    "                 ax=axs[1], alpha=.25)\n",
    "df_aoi.plot(ax=axs[1], alpha=.5, color='green')"
   ]
  },
  {
   "cell_type": "markdown",
   "metadata": {
    "ExecuteTime": {
     "end_time": "2021-11-18T00:01:05.975365Z",
     "start_time": "2021-11-18T00:01:05.946213Z"
    }
   },
   "source": [
    "# Entire Catalog\n",
    "\n",
    "Check the entire catalog."
   ]
  },
  {
   "cell_type": "code",
   "execution_count": 8,
   "metadata": {
    "ExecuteTime": {
     "end_time": "2021-11-22T22:49:23.677645Z",
     "start_time": "2021-11-22T22:48:47.620056Z"
    }
   },
   "outputs": [
    {
     "name": "stderr",
     "output_type": "stream",
     "text": [
      "Downloading stack for 28 tiles: 100%|█████████████████████████████████████████████████████████████████████████████████████████████████████████████████| 28/28 [00:31<00:00,  1.14s/it]\n",
      "5 period(s) of 365 days:   0%|                                                                                                                                  | 0/5 [00:00<?, ?it/s]\n",
      "tiles:   0%|                                                                                                                                                    | 0/3 [00:00<?, ?it/s]\u001b[A\n",
      "tiles:  33%|██████████████████████████████████████████████▋                                                                                             | 1/3 [00:00<00:00,  8.68it/s]\u001b[A\n",
      "tiles:  67%|█████████████████████████████████████████████████████████████████████████████████████████████▎                                              | 2/3 [00:00<00:00,  8.73it/s]\u001b[A\n",
      "tiles: 100%|████████████████████████████████████████████████████████████████████████████████████████████████████████████████████████████████████████████| 3/3 [00:00<00:00,  7.12it/s]\u001b[A\n",
      "5 period(s) of 365 days:  20%|████████████████████████▍                                                                                                 | 1/5 [00:00<00:01,  2.36it/s]\n",
      "tiles:   0%|                                                                                                                                                    | 0/3 [00:00<?, ?it/s]\u001b[A\n",
      "tiles: 100%|████████████████████████████████████████████████████████████████████████████████████████████████████████████████████████████████████████████| 3/3 [00:00<00:00, 11.53it/s]\u001b[A\n",
      "5 period(s) of 365 days:  40%|████████████████████████████████████████████████▊                                                                         | 2/5 [00:00<00:00,  3.03it/s]\n",
      "tiles:   0%|                                                                                                                                                    | 0/3 [00:00<?, ?it/s]\u001b[A\n",
      "tiles: 100%|████████████████████████████████████████████████████████████████████████████████████████████████████████████████████████████████████████████| 3/3 [00:00<00:00, 15.60it/s]\u001b[A\n",
      "5 period(s) of 365 days:  60%|█████████████████████████████████████████████████████████████████████████▏                                                | 3/5 [00:00<00:00,  3.72it/s]\n",
      "tiles:   0%|                                                                                                                                                    | 0/3 [00:00<?, ?it/s]\u001b[A\n",
      "tiles: 100%|████████████████████████████████████████████████████████████████████████████████████████████████████████████████████████████████████████████| 3/3 [00:00<00:00, 19.48it/s]\u001b[A\n",
      "5 period(s) of 365 days:  80%|█████████████████████████████████████████████████████████████████████████████████████████████████▌                        | 4/5 [00:01<00:00,  4.44it/s]\n",
      "tiles:   0%|                                                                                                                                                    | 0/3 [00:00<?, ?it/s]\u001b[A\n",
      "tiles: 100%|████████████████████████████████████████████████████████████████████████████████████████████████████████████████████████████████████████████| 3/3 [00:00<00:00, 28.42it/s]\u001b[A\n",
      "5 period(s) of 365 days: 100%|██████████████████████████████████████████████████████████████████████████████████████████████████████████████████████████| 5/5 [00:01<00:00,  4.34it/s]\n"
     ]
    }
   ],
   "source": [
    "ifg_pairs_tiles_all = enumerate_by_tile(aoi,\n",
    "                                    min_reference_date=datetime.datetime(2021, 7, 9), \n",
    "                                    min_days_backward = 365, \n",
    "                                    num_neighbors=3,\n",
    "                                    entire_s1_catalog=True\n",
    "                                    )"
   ]
  },
  {
   "cell_type": "code",
   "execution_count": 9,
   "metadata": {
    "ExecuteTime": {
     "end_time": "2021-11-22T22:49:23.710788Z",
     "start_time": "2021-11-22T22:49:23.680562Z"
    }
   },
   "outputs": [
    {
     "data": {
      "text/plain": [
       "Index(['index', 'beamModeType', 'browse', 'bytes', 'faradayRotation', 'fileID',\n",
       "       'fileName', 'flightDirection', 'frameNumber', 'granuleType', 'groupID',\n",
       "       'insarStackId', 'md5sum', 'offNadirAngle', 'orbit', 'pathNumber',\n",
       "       'platform', 'pointingAngle', 'polarization', 'processingDate',\n",
       "       'processingLevel', 'sceneName', 'sensor', 'startTime', 'stopTime',\n",
       "       'url', 'geometry', 'start_date', 'start_date_str'],\n",
       "      dtype='object')"
      ]
     },
     "execution_count": 9,
     "metadata": {},
     "output_type": "execute_result"
    }
   ],
   "source": [
    "ifg_pairs_tiles_all[0]['reference'].columns"
   ]
  },
  {
   "cell_type": "markdown",
   "metadata": {},
   "source": [
    "# Format for API Calls"
   ]
  },
  {
   "cell_type": "code",
   "execution_count": 10,
   "metadata": {
    "ExecuteTime": {
     "end_time": "2021-11-22T22:49:23.748146Z",
     "start_time": "2021-11-22T22:49:23.712313Z"
    }
   },
   "outputs": [],
   "source": [
    "df_pairs = distill_all_pairs(ifg_pairs_tiles)"
   ]
  },
  {
   "cell_type": "markdown",
   "metadata": {},
   "source": [
    "Save the file"
   ]
  },
  {
   "cell_type": "code",
   "execution_count": 11,
   "metadata": {
    "ExecuteTime": {
     "end_time": "2021-11-22T22:49:23.800157Z",
     "start_time": "2021-11-22T22:49:23.749547Z"
    }
   },
   "outputs": [],
   "source": [
    "df_tile_test = df_pairs.sort_values(by=['path_number', 'reference_date']).reset_index(drop=True)\n",
    "df_tile_test.drop(columns=['reference', 'secondary']).to_file('enum_tile.geojson')"
   ]
  },
  {
   "cell_type": "code",
   "execution_count": 12,
   "metadata": {
    "ExecuteTime": {
     "end_time": "2021-11-22T22:49:23.984160Z",
     "start_time": "2021-11-22T22:49:23.801608Z"
    }
   },
   "outputs": [
    {
     "data": {
      "text/plain": [
       "<AxesSubplot:>"
      ]
     },
     "execution_count": 12,
     "metadata": {},
     "output_type": "execute_result"
    },
    {
     "data": {
      "image/png": "[encoded data removed]",
      "text/plain": [
       "<Figure size 432x288 with 1 Axes>"
      ]
     },
     "metadata": {
      "needs_background": "light"
     },
     "output_type": "display_data"
    }
   ],
   "source": [
    "df_pairs_plot = df_pairs.copy()\n",
    "df_pairs_plot.geometry = df_pairs.geometry.exterior\n",
    "\n",
    "fig, ax = plt.subplots()\n",
    "df_aoi.plot(alpha=.25, ax=ax)\n",
    "df_pairs_plot.plot(column='path_number', categorical=True, legend=True, ax=ax)"
   ]
  },
  {
   "cell_type": "code",
   "execution_count": 13,
   "metadata": {
    "ExecuteTime": {
     "end_time": "2021-11-22T22:49:24.020108Z",
     "start_time": "2021-11-22T22:49:23.985754Z"
    }
   },
   "outputs": [
    {
     "data": {
      "text/plain": [
       "[{'reference': ['S1A_IW_SLC__1SDV_20210710T015845_20210710T015913_038709_04915C_64A6'],\n",
       "  'secondary': ['S1A_IW_SLC__1SDV_20200703T015838_20200703T015906_033284_03DB34_F8A3'],\n",
       "  'reference_date': '2021-07-10',\n",
       "  'secondary_date': '2020-07-03',\n",
       "  'path_number': 137,\n",
       "  'geometry': <shapely.geometry.polygon.Polygon at 0x1c4b7e790>},\n",
       " {'reference': ['S1A_IW_SLC__1SDV_20210710T015845_20210710T015913_038709_04915C_64A6'],\n",
       "  'secondary': ['S1B_IW_SLC__1SDV_20200627T015734_20200627T015804_022213_02A288_062B',\n",
       "   'S1B_IW_SLC__1SDV_20200627T015802_20200627T015830_022213_02A288_89D9'],\n",
       "  'reference_date': '2021-07-10',\n",
       "  'secondary_date': '2020-06-27',\n",
       "  'path_number': 137,\n",
       "  'geometry': <shapely.geometry.polygon.Polygon at 0x1c43b4700>},\n",
       " {'reference': ['S1A_IW_SLC__1SDV_20210710T015845_20210710T015913_038709_04915C_64A6'],\n",
       "  'secondary': ['S1A_IW_SLC__1SDV_20200621T015838_20200621T015906_033109_03D5E6_7379'],\n",
       "  'reference_date': '2021-07-10',\n",
       "  'secondary_date': '2020-06-21',\n",
       "  'path_number': 137,\n",
       "  'geometry': <shapely.geometry.polygon.Polygon at 0x1c43b4f70>},\n",
       " {'reference': ['S1A_IW_SLC__1SDV_20210710T140037_20210710T140104_038716_049192_37DA'],\n",
       "  'secondary': ['S1A_IW_SLC__1SDV_20200703T140031_20200703T140058_033291_03DB6C_F32C'],\n",
       "  'reference_date': '2021-07-10',\n",
       "  'secondary_date': '2020-07-03',\n",
       "  'path_number': 144,\n",
       "  'geometry': <shapely.geometry.polygon.Polygon at 0x1c391b5e0>},\n",
       " {'reference': ['S1A_IW_SLC__1SDV_20210710T140037_20210710T140104_038716_049192_37DA'],\n",
       "  'secondary': ['S1B_IW_SLC__1SDV_20200627T135931_20200627T135958_022220_02A2C1_32FF',\n",
       "   'S1B_IW_SLC__1SDV_20200627T135956_20200627T140023_022220_02A2C1_2DC9'],\n",
       "  'reference_date': '2021-07-10',\n",
       "  'secondary_date': '2020-06-27',\n",
       "  'path_number': 144,\n",
       "  'geometry': <shapely.geometry.polygon.Polygon at 0x1c391b850>},\n",
       " {'reference': ['S1A_IW_SLC__1SDV_20210710T140037_20210710T140104_038716_049192_37DA'],\n",
       "  'secondary': ['S1A_IW_SLC__1SDV_20200621T140030_20200621T140057_033116_03D61B_C33D'],\n",
       "  'reference_date': '2021-07-10',\n",
       "  'secondary_date': '2020-06-21',\n",
       "  'path_number': 144,\n",
       "  'geometry': <shapely.geometry.polygon.Polygon at 0x1c391b910>},\n",
       " {'reference': ['S1B_IW_SLC__1SDV_20210716T015809_20210716T015837_027813_0351A3_EF5A'],\n",
       "  'secondary': ['S1A_IW_SLC__1SDV_20200703T015838_20200703T015906_033284_03DB34_F8A3',\n",
       "   'S1A_IW_SLC__1SDV_20200703T015904_20200703T015931_033284_03DB34_E9C6'],\n",
       "  'reference_date': '2021-07-16',\n",
       "  'secondary_date': '2020-07-03',\n",
       "  'path_number': 137,\n",
       "  'geometry': <shapely.geometry.polygon.Polygon at 0x1c36819d0>},\n",
       " {'reference': ['S1B_IW_SLC__1SDV_20210716T015809_20210716T015837_027813_0351A3_EF5A'],\n",
       "  'secondary': ['S1B_IW_SLC__1SDV_20200627T015802_20200627T015830_022213_02A288_89D9'],\n",
       "  'reference_date': '2021-07-16',\n",
       "  'secondary_date': '2020-06-27',\n",
       "  'path_number': 137,\n",
       "  'geometry': <shapely.geometry.polygon.Polygon at 0x1c617b0d0>},\n",
       " {'reference': ['S1B_IW_SLC__1SDV_20210716T015809_20210716T015837_027813_0351A3_EF5A'],\n",
       "  'secondary': ['S1A_IW_SLC__1SDV_20200621T015838_20200621T015906_033109_03D5E6_7379',\n",
       "   'S1A_IW_SLC__1SDV_20200621T015904_20200621T015930_033109_03D5E6_864E'],\n",
       "  'reference_date': '2021-07-16',\n",
       "  'secondary_date': '2020-06-21',\n",
       "  'path_number': 137,\n",
       "  'geometry': <shapely.geometry.polygon.Polygon at 0x1c618cf10>}]"
      ]
     },
     "execution_count": 13,
     "metadata": {},
     "output_type": "execute_result"
    }
   ],
   "source": [
    "records = df_pairs.to_dict('records')\n",
    "records[:15]"
   ]
  },
  {
   "cell_type": "markdown",
   "metadata": {},
   "source": [
    "# ASF Lookup"
   ]
  },
  {
   "cell_type": "code",
   "execution_count": 14,
   "metadata": {
    "ExecuteTime": {
     "end_time": "2021-11-22T22:49:24.053279Z",
     "start_time": "2021-11-22T22:49:24.021678Z"
    }
   },
   "outputs": [
    {
     "data": {
      "text/plain": [
       "{'reference': ['S1A_IW_SLC__1SDV_20210710T140037_20210710T140104_038716_049192_37DA'],\n",
       " 'secondary': ['S1A_IW_SLC__1SDV_20200703T140031_20200703T140058_033291_03DB6C_F32C'],\n",
       " 'reference_date': '2021-07-10',\n",
       " 'secondary_date': '2020-07-03',\n",
       " 'path_number': 144,\n",
       " 'geometry': <shapely.geometry.polygon.Polygon at 0x1c391b5e0>}"
      ]
     },
     "execution_count": 14,
     "metadata": {},
     "output_type": "execute_result"
    }
   ],
   "source": [
    "K = 3\n",
    "entry = records[K]\n",
    "entry"
   ]
  },
  {
   "cell_type": "code",
   "execution_count": 15,
   "metadata": {
    "ExecuteTime": {
     "end_time": "2021-11-22T22:49:26.313840Z",
     "start_time": "2021-11-22T22:49:24.054498Z"
    }
   },
   "outputs": [
    {
     "data": {
      "text/plain": [
       "'S1-GUNW-D-R-144-tops-20210710_20200703-140051-35745N_33766N-PP-12c6-v2_0_4'"
      ]
     },
     "execution_count": 15,
     "metadata": {},
     "output_type": "execute_result"
    }
   ],
   "source": [
    "duplicate_gunw_found(entry)"
   ]
  },
  {
   "cell_type": "code",
   "execution_count": 16,
   "metadata": {
    "ExecuteTime": {
     "end_time": "2021-11-22T22:49:29.862619Z",
     "start_time": "2021-11-22T22:49:26.315004Z"
    }
   },
   "outputs": [
    {
     "name": "stderr",
     "output_type": "stream",
     "text": [
      "100%|███████████████████████████████████████████████████████████████████████████████████████████████████████████████████████████████████████████████████| 9/9 [00:03<00:00,  2.58it/s]\n"
     ]
    }
   ],
   "source": [
    "with concurrent.futures.ThreadPoolExecutor(max_workers=15) as executor:\n",
    "    results = list(tqdm(executor.map(duplicate_gunw_found, records), total=len(records)))"
   ]
  },
  {
   "cell_type": "code",
   "execution_count": 17,
   "metadata": {
    "ExecuteTime": {
     "end_time": "2021-11-22T22:49:29.893640Z",
     "start_time": "2021-11-22T22:49:29.864006Z"
    }
   },
   "outputs": [
    {
     "data": {
      "text/plain": [
       "['',\n",
       " '',\n",
       " '',\n",
       " 'S1-GUNW-D-R-144-tops-20210710_20200703-140051-35745N_33766N-PP-12c6-v2_0_4',\n",
       " '',\n",
       " '',\n",
       " '',\n",
       " '',\n",
       " '']"
      ]
     },
     "execution_count": 17,
     "metadata": {},
     "output_type": "execute_result"
    }
   ],
   "source": [
    "results"
   ]
  }
 ],
 "metadata": {
  "interpreter": {
   "hash": "31f2aee4e71d21fbe5cf8b01ff0e069b9275f58929596ceb00d14d90e3e16cd6"
  },
  "kernelspec": {
   "display_name": "s1-enumerator",
   "language": "python",
   "name": "s1-enumerator"
  },
  "language_info": {
   "codemirror_mode": {
    "name": "ipython",
    "version": 3
   },
   "file_extension": ".py",
   "mimetype": "text/x-python",
   "name": "python",
   "nbconvert_exporter": "python",
   "pygments_lexer": "ipython3",
   "version": "3.9.7"
  }
 },
 "nbformat": 4,
 "nbformat_minor": 2
}
