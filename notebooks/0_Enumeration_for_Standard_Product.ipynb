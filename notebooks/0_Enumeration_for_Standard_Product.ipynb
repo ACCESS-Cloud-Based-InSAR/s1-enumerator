{
 "cells": [
  {
   "cell_type": "code",
   "execution_count": 1,
   "metadata": {
    "ExecuteTime": {
     "end_time": "2021-11-22T22:42:16.118535Z",
     "start_time": "2021-11-22T22:42:16.091242Z"
    }
   },
   "outputs": [],
   "source": [
    "%load_ext autoreload\n",
    "%autoreload 2"
   ]
  },
  {
   "cell_type": "code",
   "execution_count": 2,
   "metadata": {
    "ExecuteTime": {
     "end_time": "2021-11-22T22:42:17.344767Z",
     "start_time": "2021-11-22T22:42:16.458873Z"
    }
   },
   "outputs": [],
   "source": [
    "from s1_enumerator import get_aoi_dataframe, enumerate_by_tile, distill_all_pairs\n",
    "import concurrent\n",
    "from tqdm import tqdm\n",
    "from s1_enumerator import duplicate_gunw_found\n",
    "\n",
    "from shapely.geometry import Point\n",
    "import datetime\n",
    "import pandas as pd\n",
    "import matplotlib.pyplot as plt"
   ]
  },
  {
   "cell_type": "code",
   "execution_count": 3,
   "metadata": {
    "ExecuteTime": {
     "end_time": "2021-11-22T22:42:17.508005Z",
     "start_time": "2021-11-22T22:42:17.346552Z"
    }
   },
   "outputs": [
    {
     "data": {
      "text/plain": [
       "<AxesSubplot:>"
      ]
     },
     "execution_count": 3,
     "metadata": {},
     "output_type": "execute_result"
    },
    {
     "data": {
      "image/png": "[encoded data removed]",
      "text/plain": [
       "<Figure size 432x288 with 1 Axes>"
      ]
     },
     "metadata": {
      "needs_background": "light"
     },
     "output_type": "display_data"
    }
   ],
   "source": [
    "# Over Los Padres National Forest, CA\n",
    "point = Point(-120.0048,34.8923)\n",
    "aoi = point.buffer(1)\n",
    "df_aoi = get_aoi_dataframe(aoi)\n",
    "df_aoi.plot()"
   ]
  },
  {
   "cell_type": "markdown",
   "metadata": {},
   "source": [
    "# Standard Product Enumeration\n",
    "\n",
    "Gets all tiles that cover AOI and then find suitable sets to generate interferograms.\n",
    "\n",
    "Specifics:\n",
    "\n",
    "- Requires each tile has 80% overlap with AOI, relative to tile. Since S1 footprints are fixed this can be translated to absolute area. The percentage can be modified with keyword arguments.\n",
    "- Requires secondary tiles to have at least 10% overlap with reference tile used for interferogram\n",
    "- When comparing to the entire S1 catalog, it fixes the reference as the earliest date after `min_reference_date`.\n",
    "- Due to the nuanced nature of enumeration, we download the metadata for *all the tiles* that intersect the AOI. We cannot use the current `ASF` stack because it assumes each date has a *single* intersection with the reference tile. We can sometimes use two secondary tiles to obtain sufficient coverage.\n",
    "\n",
    "## Enumeration over 1 year\n",
    "\n",
    "- `min_days_backward` refers to the fact all pairs will have at least a certain number of days between pairs. Secondary sets are selected as the latest dates that still have this space. \n",
    "- `num_neighbors` is the number of dates that can be used for interferograms. This will determine the number of interferograms that are generated. Generally (unless there is some unusual unavailability), the total number of interferograms (i.e. `len(ifg_pairs_tiles)` below) should be divisible by `num_neighbors`."
   ]
  },
  {
   "cell_type": "code",
   "execution_count": 4,
   "metadata": {
    "ExecuteTime": {
     "end_time": "2021-11-22T22:43:04.575457Z",
     "start_time": "2021-11-22T22:42:18.460445Z"
    }
   },
   "outputs": [
    {
     "name": "stderr",
     "output_type": "stream",
     "text": [
      "Downloading stack for 28 tiles: 100%|█████████████████████████████████████████████████████████████████████████████████████████████████████████████████| 28/28 [00:43<00:00,  1.55s/it]\n",
      "1 period(s) of 365 days:   0%|                                                                                                                                  | 0/1 [00:00<?, ?it/s]\n",
      "tiles:   0%|                                                                                                                                                    | 0/3 [00:00<?, ?it/s]\u001b[A\n",
      "tiles:  33%|██████████████████████████████████████████████▋                                                                                             | 1/3 [00:00<00:00,  8.67it/s]\u001b[A\n",
      "tiles:  67%|█████████████████████████████████████████████████████████████████████████████████████████████▎                                              | 2/3 [00:00<00:00,  9.10it/s]\u001b[A\n",
      "tiles: 100%|████████████████████████████████████████████████████████████████████████████████████████████████████████████████████████████████████████████| 3/3 [00:00<00:00,  9.10it/s]\u001b[A\n",
      "1 period(s) of 365 days: 100%|██████████████████████████████████████████████████████████████████████████████████████████████████████████████████████████| 1/1 [00:00<00:00,  3.00it/s]\n"
     ]
    }
   ],
   "source": [
    "num_neighbors = 3\n",
    "ifg_pairs_tiles = enumerate_by_tile(aoi,\n",
    "                                    min_reference_date=datetime.datetime(2021, 7, 9), \n",
    "                                    min_days_backward = 365, \n",
    "                                    num_neighbors=num_neighbors,\n",
    "                                    entire_s1_catalog=False\n",
    "                                    )"
   ]
  },
  {
   "cell_type": "code",
   "execution_count": 5,
   "metadata": {
    "ExecuteTime": {
     "end_time": "2021-11-22T22:43:04.609085Z",
     "start_time": "2021-11-22T22:43:04.577249Z"
    }
   },
   "outputs": [
    {
     "name": "stdout",
     "output_type": "stream",
     "text": [
      "total GUNWs (N):  9\n",
      "Remainder of N with num_neighbors (3):  0\n"
     ]
    }
   ],
   "source": [
    "N = len(ifg_pairs_tiles)\n",
    "print('total GUNWs (N): ', N)\n",
    "print(f'Remainder of N with num_neighbors ({num_neighbors}): ', N % num_neighbors)"
   ]
  },
  {
   "cell_type": "code",
   "execution_count": 6,
   "metadata": {
    "ExecuteTime": {
     "end_time": "2021-11-22T22:43:04.880051Z",
     "start_time": "2021-11-22T22:43:04.610658Z"
    }
   },
   "outputs": [
    {
     "data": {
      "text/plain": [
       "<AxesSubplot:>"
      ]
     },
     "execution_count": 6,
     "metadata": {},
     "output_type": "execute_result"
    },
    {
     "data": {
      "image/png": "[encoded data removed]",
      "text/plain": [
       "<Figure size 432x288 with 2 Axes>"
      ]
     },
     "metadata": {
      "needs_background": "light"
     },
     "output_type": "display_data"
    }
   ],
   "source": [
    "J = 7\n",
    "pair = ifg_pairs_tiles[J]\n",
    "\n",
    "fig, axs = plt.subplots(1, 2, sharey=True, sharex=True)\n",
    "\n",
    "df_ref_plot = pair['reference']\n",
    "df_sec_plot = pair['secondary']\n",
    "\n",
    "df_ref_plot.plot(column='start_date_str', \n",
    "                 legend=True, \n",
    "                 ax=axs[0], alpha=.25)\n",
    "df_aoi.plot(ax=axs[0], alpha=.5, color='green')\n",
    "\n",
    "df_sec_plot.plot(column='start_date_str', \n",
    "                 legend=True, \n",
    "                 ax=axs[1], alpha=.25)\n",
    "df_aoi.plot(ax=axs[1], alpha=.5, color='green')"
   ]
  },
  {
   "cell_type": "code",
   "execution_count": 7,
   "metadata": {
    "ExecuteTime": {
     "end_time": "2021-11-22T22:43:05.164947Z",
     "start_time": "2021-11-22T22:43:04.882148Z"
    }
   },
   "outputs": [
    {
     "data": {
      "text/plain": [
       "<AxesSubplot:>"
      ]
     },
     "execution_count": 7,
     "metadata": {},
     "output_type": "execute_result"
    },
    {
     "data": {
      "image/png": "[encoded data removed]",
      "text/plain": [
       "<Figure size 432x288 with 2 Axes>"
      ]
     },
     "metadata": {
      "needs_background": "light"
     },
     "output_type": "display_data"
    }
   ],
   "source": [
    "J = 8\n",
    "pair = ifg_pairs_tiles[J]\n",
    "\n",
    "fig, axs = plt.subplots(1, 2, sharey=True, sharex=True)\n",
    "\n",
    "df_ref_plot = pair['reference']\n",
    "df_sec_plot = pair['secondary']\n",
    "\n",
    "df_ref_plot.plot(column='start_date_str', \n",
    "                 legend=True, \n",
    "                 ax=axs[0], alpha=.25)\n",
    "df_aoi.plot(ax=axs[0], alpha=.5, color='green')\n",
    "\n",
    "df_sec_plot.plot(column='start_date_str', \n",
    "                 legend=True, \n",
    "                 ax=axs[1], alpha=.25)\n",
    "df_aoi.plot(ax=axs[1], alpha=.5, color='green')"
   ]
  },
  {
   "cell_type": "markdown",
   "metadata": {
    "ExecuteTime": {
     "end_time": "2021-11-18T00:01:05.975365Z",
     "start_time": "2021-11-18T00:01:05.946213Z"
    }
   },
   "source": [
    "# Entire Catalog\n",
    "\n",
    "Check the entire catalog."
   ]
  },
  {
   "cell_type": "code",
   "execution_count": null,
   "metadata": {
    "ExecuteTime": {
     "end_time": "2021-11-22T22:34:48.943765Z",
     "start_time": "2021-11-22T22:34:48.943755Z"
    }
   },
   "outputs": [],
   "source": [
    "ifg_pairs_tiles_all = enumerate_by_tile(aoi,\n",
    "                                    min_reference_date=datetime.datetime(2021, 7, 9), \n",
    "                                    min_days_backward = 365, \n",
    "                                    num_neighbors=3,\n",
    "                                    entire_s1_catalog=True\n",
    "                                    )"
   ]
  },
  {
   "cell_type": "code",
   "execution_count": null,
   "metadata": {
    "ExecuteTime": {
     "end_time": "2021-11-22T22:34:48.944921Z",
     "start_time": "2021-11-22T22:34:48.944912Z"
    }
   },
   "outputs": [],
   "source": [
    "ifg_pairs_tiles_all[0]['reference'].columns"
   ]
  },
  {
   "cell_type": "markdown",
   "metadata": {},
   "source": [
    "# Format for API Calls"
   ]
  },
  {
   "cell_type": "code",
   "execution_count": 8,
   "metadata": {
    "ExecuteTime": {
     "end_time": "2021-11-22T22:43:18.030909Z",
     "start_time": "2021-11-22T22:43:17.993413Z"
    }
   },
   "outputs": [],
   "source": [
    "df_pairs = distill_all_pairs(ifg_pairs_tiles)"
   ]
  },
  {
   "cell_type": "markdown",
   "metadata": {},
   "source": [
    "Save the file"
   ]
  },
  {
   "cell_type": "code",
   "execution_count": 9,
   "metadata": {
    "ExecuteTime": {
     "end_time": "2021-11-22T22:43:22.503983Z",
     "start_time": "2021-11-22T22:43:22.394622Z"
    }
   },
   "outputs": [],
   "source": [
    "df_tile_test = df_pairs.sort_values(by=['path_number', 'reference_date']).reset_index(drop=True)\n",
    "df_tile_test.drop(columns=['reference', 'secondary']).to_file('enum_tile.geojson')"
   ]
  },
  {
   "cell_type": "code",
   "execution_count": null,
   "metadata": {
    "ExecuteTime": {
     "end_time": "2021-11-22T22:34:48.947101Z",
     "start_time": "2021-11-22T22:34:48.947092Z"
    }
   },
   "outputs": [],
   "source": [
    "df_pairs_plot = df_pairs.copy()\n",
    "df_pairs_plot.geometry = df_pairs.geometry.exterior\n",
    "\n",
    "fig, ax = plt.subplots()\n",
    "df_aoi.plot(alpha=.25, ax=ax)\n",
    "df_pairs_plot.plot(column='path_number', categorical=True, legend=True, ax=ax)"
   ]
  },
  {
   "cell_type": "code",
   "execution_count": null,
   "metadata": {
    "ExecuteTime": {
     "end_time": "2021-11-22T22:34:48.949238Z",
     "start_time": "2021-11-22T22:34:48.949230Z"
    }
   },
   "outputs": [],
   "source": [
    "records = df_pairs.to_dict('records')\n",
    "records[:15]"
   ]
  },
  {
   "cell_type": "markdown",
   "metadata": {},
   "source": [
    "# ASF Lookup"
   ]
  },
  {
   "cell_type": "code",
   "execution_count": null,
   "metadata": {
    "ExecuteTime": {
     "end_time": "2021-11-22T22:34:48.950060Z",
     "start_time": "2021-11-22T22:34:48.950051Z"
    }
   },
   "outputs": [],
   "source": [
    "K = 3\n",
    "entry = records[K]\n",
    "entry"
   ]
  },
  {
   "cell_type": "code",
   "execution_count": null,
   "metadata": {
    "ExecuteTime": {
     "end_time": "2021-11-22T22:34:48.951265Z",
     "start_time": "2021-11-22T22:34:48.951252Z"
    }
   },
   "outputs": [],
   "source": [
    "duplicate_gunw_found(entry)"
   ]
  },
  {
   "cell_type": "code",
   "execution_count": null,
   "metadata": {
    "ExecuteTime": {
     "end_time": "2021-11-22T22:34:48.952037Z",
     "start_time": "2021-11-22T22:34:48.952028Z"
    }
   },
   "outputs": [],
   "source": [
    "with concurrent.futures.ThreadPoolExecutor(max_workers=15) as executor:\n",
    "    results = list(tqdm(executor.map(duplicate_gunw_found, records), total=len(records)))"
   ]
  },
  {
   "cell_type": "code",
   "execution_count": null,
   "metadata": {
    "ExecuteTime": {
     "end_time": "2021-11-22T22:34:48.953004Z",
     "start_time": "2021-11-22T22:34:48.952995Z"
    }
   },
   "outputs": [],
   "source": [
    "results"
   ]
  }
 ],
 "metadata": {
  "interpreter": {
   "hash": "31f2aee4e71d21fbe5cf8b01ff0e069b9275f58929596ceb00d14d90e3e16cd6"
  },
  "kernelspec": {
   "display_name": "s1-enumerator",
   "language": "python",
   "name": "s1-enumerator"
  },
  "language_info": {
   "codemirror_mode": {
    "name": "ipython",
    "version": 3
   },
   "file_extension": ".py",
   "mimetype": "text/x-python",
   "name": "python",
   "nbconvert_exporter": "python",
   "pygments_lexer": "ipython3",
   "version": "3.9.7"
  }
 },
 "nbformat": 4,
 "nbformat_minor": 2
}
