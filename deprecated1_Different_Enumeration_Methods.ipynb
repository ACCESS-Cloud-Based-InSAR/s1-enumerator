{
 "cells": [
  {
   "cell_type": "markdown",
   "metadata": {},
   "source": [
    "This is the same AOI, but we demonstrate two different methods for enumeration.\n",
    "\n",
    "1. `by path` - obtains all tiles in fixed `pathNumber` (in literature this is refered to a `track) that cover AOI with minimum km$^2$ threshold and uses these frames/tiles as reference tiles and then enumerates intereferograms.\n",
    "2. `by tile` - this is the methodology described in the previous notebook used for the standard product."
   ]
  },
  {
   "cell_type": "code",
   "execution_count": 1,
   "metadata": {
    "ExecuteTime": {
     "end_time": "2021-11-22T22:50:27.071778Z",
     "start_time": "2021-11-22T22:50:27.048916Z"
    }
   },
   "outputs": [],
   "source": [
    "%load_ext autoreload\n",
    "%autoreload 2"
   ]
  },
  {
   "cell_type": "code",
   "execution_count": 2,
   "metadata": {
    "ExecuteTime": {
     "end_time": "2021-11-22T22:50:27.956407Z",
     "start_time": "2021-11-22T22:50:27.073701Z"
    }
   },
   "outputs": [],
   "source": [
    "from s1_enumerator import enumerate_by_path, get_aoi_dataframe, enumerate_by_tile, distill_all_pairs\n",
    "from shapely.geometry import Point\n",
    "import datetime\n",
    "import pandas as pd\n",
    "import matplotlib.pyplot as plt"
   ]
  },
  {
   "cell_type": "code",
   "execution_count": 3,
   "metadata": {
    "ExecuteTime": {
     "end_time": "2021-11-22T22:50:28.111541Z",
     "start_time": "2021-11-22T22:50:27.957936Z"
    }
   },
   "outputs": [
    {
     "data": {
      "text/plain": [
       "<AxesSubplot:>"
      ]
     },
     "execution_count": 3,
     "metadata": {},
     "output_type": "execute_result"
    },
    {
     "data": {
      "image/png": "[encoded data removed]",
      "text/plain": [
       "<Figure size 432x288 with 1 Axes>"
      ]
     },
     "metadata": {
      "needs_background": "light"
     },
     "output_type": "display_data"
    }
   ],
   "source": [
    "# Over Los Padres National Forest, CA\n",
    "point = Point(-120.0048,34.8923)\n",
    "aoi = point.buffer(1)\n",
    "df_aoi = get_aoi_dataframe(aoi)\n",
    "df_aoi.plot()"
   ]
  },
  {
   "cell_type": "markdown",
   "metadata": {},
   "source": [
    "# By Path\n",
    "\n",
    "## Single Lookup"
   ]
  },
  {
   "cell_type": "code",
   "execution_count": 4,
   "metadata": {
    "ExecuteTime": {
     "end_time": "2021-11-22T22:50:56.133061Z",
     "start_time": "2021-11-22T22:50:28.113796Z"
    }
   },
   "outputs": [
    {
     "name": "stderr",
     "output_type": "stream",
     "text": [
      "Downloading stack for 22 tiles: 100%|█████████████████████████████████████████████████████████████████████████████████████████████████████████████████| 22/22 [00:24<00:00,  1.13s/it]\n",
      "1 period(s) of 0 days:   0%|                                                                                                                                    | 0/1 [00:00<?, ?it/s]\n",
      "Enumerating 4 paths: 100%|██████████████████████████████████████████████████████████████████████████████████████████████████████████████████████████████| 4/4 [00:00<00:00, 82.41it/s]\u001b[A\n",
      "1 period(s) of 0 days: 100%|████████████████████████████████████████████████████████████████████████████████████████████████████████████████████████████| 1/1 [00:00<00:00, 19.55it/s]\n"
     ]
    }
   ],
   "source": [
    "num_neighbors = 3\n",
    "ifg_pairs_path = enumerate_by_path(aoi,\n",
    "                              min_reference_date=datetime.datetime(2021, 1, 1), \n",
    "                              min_days_backward = 0, \n",
    "                              num_neighbors=num_neighbors,\n",
    "                              )"
   ]
  },
  {
   "cell_type": "code",
   "execution_count": 5,
   "metadata": {
    "ExecuteTime": {
     "end_time": "2021-11-22T22:50:56.166301Z",
     "start_time": "2021-11-22T22:50:56.134528Z"
    }
   },
   "outputs": [
    {
     "name": "stdout",
     "output_type": "stream",
     "text": [
      "total GUNWs (N):  12\n",
      "Remainder of N with num_neighbors (3):  0\n"
     ]
    }
   ],
   "source": [
    "N = len(ifg_pairs_path)\n",
    "print('total GUNWs (N): ', N)\n",
    "print(f'Remainder of N with num_neighbors ({num_neighbors}): ', N % num_neighbors)"
   ]
  },
  {
   "cell_type": "code",
   "execution_count": 6,
   "metadata": {
    "ExecuteTime": {
     "end_time": "2021-11-22T22:50:56.447936Z",
     "start_time": "2021-11-22T22:50:56.167841Z"
    }
   },
   "outputs": [
    {
     "data": {
      "text/plain": [
       "<AxesSubplot:>"
      ]
     },
     "execution_count": 6,
     "metadata": {},
     "output_type": "execute_result"
    },
    {
     "data": {
      "image/png": "[encoded data removed]",
      "text/plain": [
       "<Figure size 432x288 with 2 Axes>"
      ]
     },
     "metadata": {
      "needs_background": "light"
     },
     "output_type": "display_data"
    }
   ],
   "source": [
    "J = 7\n",
    "pair = ifg_pairs_path[J]\n",
    "\n",
    "fig, axs = plt.subplots(1, 2, sharey=True, sharex=True)\n",
    "\n",
    "df_ref_plot = pair['reference']\n",
    "df_sec_plot = pair['secondary']\n",
    "\n",
    "df_ref_plot.plot(column='start_date_str', \n",
    "                 legend=True, \n",
    "                 ax=axs[0], alpha=.25)\n",
    "df_aoi.plot(ax=axs[0], alpha=.5, color='green')\n",
    "\n",
    "df_sec_plot.plot(column='start_date_str', \n",
    "                 legend=True, \n",
    "                 ax=axs[1], alpha=.25)\n",
    "df_aoi.plot(ax=axs[1], alpha=.5, color='green')"
   ]
  },
  {
   "cell_type": "code",
   "execution_count": 7,
   "metadata": {
    "ExecuteTime": {
     "end_time": "2021-11-22T22:50:56.756074Z",
     "start_time": "2021-11-22T22:50:56.449660Z"
    }
   },
   "outputs": [
    {
     "data": {
      "text/plain": [
       "<AxesSubplot:>"
      ]
     },
     "execution_count": 7,
     "metadata": {},
     "output_type": "execute_result"
    },
    {
     "data": {
      "image/png": "[encoded data removed]",
      "text/plain": [
       "<Figure size 432x288 with 2 Axes>"
      ]
     },
     "metadata": {
      "needs_background": "light"
     },
     "output_type": "display_data"
    }
   ],
   "source": [
    "J = 8\n",
    "pair = ifg_pairs_path[J]\n",
    "\n",
    "fig, axs = plt.subplots(1, 2, sharey=True, sharex=True)\n",
    "\n",
    "df_ref_plot = pair['reference']\n",
    "df_sec_plot = pair['secondary']\n",
    "\n",
    "df_ref_plot.plot(column='start_date_str', \n",
    "                 legend=True, \n",
    "                 ax=axs[0], alpha=.25)\n",
    "df_aoi.plot(ax=axs[0], alpha=.5, color='green')\n",
    "\n",
    "df_sec_plot.plot(column='start_date_str', \n",
    "                 legend=True, \n",
    "                 ax=axs[1], alpha=.25)\n",
    "df_aoi.plot(ax=axs[1], alpha=.5, color='green')"
   ]
  },
  {
   "cell_type": "markdown",
   "metadata": {},
   "source": [
    "## Entire Catalog (earliest Jan 1, 2016)"
   ]
  },
  {
   "cell_type": "code",
   "execution_count": 8,
   "metadata": {
    "ExecuteTime": {
     "end_time": "2021-11-22T22:51:23.881864Z",
     "start_time": "2021-11-22T22:50:56.757544Z"
    }
   },
   "outputs": [
    {
     "name": "stderr",
     "output_type": "stream",
     "text": [
      "Downloading stack for 22 tiles: 100%|█████████████████████████████████████████████████████████████████████████████████████████████████████████████████| 22/22 [00:24<00:00,  1.09s/it]\n",
      "5 period(s) of 365 days:   0%|                                                                                                                                  | 0/5 [00:00<?, ?it/s]\n",
      "Enumerating 4 paths: 100%|██████████████████████████████████████████████████████████████████████████████████████████████████████████████████████████████| 4/4 [00:00<00:00, 88.28it/s]\u001b[A\n",
      "\n",
      "Enumerating 4 paths: 100%|██████████████████████████████████████████████████████████████████████████████████████████████████████████████████████████████| 4/4 [00:00<00:00, 86.79it/s]\u001b[A\n",
      "\n",
      "Enumerating 4 paths: 100%|██████████████████████████████████████████████████████████████████████████████████████████████████████████████████████████████| 4/4 [00:00<00:00, 85.66it/s]\u001b[A\n",
      "5 period(s) of 365 days:  60%|█████████████████████████████████████████████████████████████████████████▏                                                | 3/5 [00:00<00:00, 20.54it/s]\n",
      "Enumerating 4 paths: 100%|██████████████████████████████████████████████████████████████████████████████████████████████████████████████████████████████| 4/4 [00:00<00:00, 85.10it/s]\u001b[A\n",
      "\n",
      "Enumerating 4 paths: 100%|██████████████████████████████████████████████████████████████████████████████████████████████████████████████████████████████| 4/4 [00:00<00:00, 85.01it/s]\u001b[A\n",
      "5 period(s) of 365 days: 100%|██████████████████████████████████████████████████████████████████████████████████████████████████████████████████████████| 5/5 [00:00<00:00, 20.37it/s]\n"
     ]
    },
    {
     "data": {
      "text/plain": [
       "60"
      ]
     },
     "execution_count": 8,
     "metadata": {},
     "output_type": "execute_result"
    }
   ],
   "source": [
    "ifg_pairs_path_all = enumerate_by_path(aoi,\n",
    "                                  min_reference_date=datetime.datetime(2021, 1, 1), \n",
    "                                  min_days_backward = 365, \n",
    "                                  num_neighbors=3,\n",
    "                                  entire_s1_catalog=True\n",
    "                                  )\n",
    "len(ifg_pairs_path_all)"
   ]
  },
  {
   "cell_type": "markdown",
   "metadata": {},
   "source": [
    "# By Tile\n",
    "\n",
    "This is the normal standard product procedure (see previous notebook).\n",
    "\n",
    "## Single Lookup"
   ]
  },
  {
   "cell_type": "code",
   "execution_count": 9,
   "metadata": {
    "ExecuteTime": {
     "end_time": "2021-11-22T22:51:58.095597Z",
     "start_time": "2021-11-22T22:51:23.883180Z"
    }
   },
   "outputs": [
    {
     "name": "stderr",
     "output_type": "stream",
     "text": [
      "Downloading stack for 28 tiles: 100%|█████████████████████████████████████████████████████████████████████████████████████████████████████████████████| 28/28 [00:31<00:00,  1.12s/it]\n",
      "1 period(s) of 364 days:   0%|                                                                                                                                  | 0/1 [00:00<?, ?it/s]\n",
      "tiles:   0%|                                                                                                                                                    | 0/3 [00:00<?, ?it/s]\u001b[A\n",
      "tiles:  33%|██████████████████████████████████████████████▋                                                                                             | 1/3 [00:00<00:00,  8.73it/s]\u001b[A\n",
      "tiles:  67%|█████████████████████████████████████████████████████████████████████████████████████████████▎                                              | 2/3 [00:00<00:00,  8.81it/s]\u001b[A\n",
      "tiles: 100%|████████████████████████████████████████████████████████████████████████████████████████████████████████████████████████████████████████████| 3/3 [00:00<00:00,  8.77it/s]\u001b[A\n",
      "1 period(s) of 364 days: 100%|██████████████████████████████████████████████████████████████████████████████████████████████████████████████████████████| 1/1 [00:00<00:00,  2.90it/s]\n"
     ]
    },
    {
     "data": {
      "text/plain": [
       "15"
      ]
     },
     "execution_count": 9,
     "metadata": {},
     "output_type": "execute_result"
    }
   ],
   "source": [
    "ifg_pairs_tiles = enumerate_by_tile(aoi,\n",
    "                                    min_reference_date=datetime.datetime(2021, 7, 9), \n",
    "                                    min_days_backward = 364, \n",
    "                                    num_neighbors=5,\n",
    "                                    entire_s1_catalog=False\n",
    "                                    )\n",
    "len(ifg_pairs_tiles)"
   ]
  },
  {
   "cell_type": "code",
   "execution_count": 10,
   "metadata": {
    "ExecuteTime": {
     "end_time": "2021-11-22T22:51:58.375707Z",
     "start_time": "2021-11-22T22:51:58.098966Z"
    }
   },
   "outputs": [
    {
     "data": {
      "text/plain": [
       "<AxesSubplot:>"
      ]
     },
     "execution_count": 10,
     "metadata": {},
     "output_type": "execute_result"
    },
    {
     "data": {
      "image/png": "[encoded data removed]",
      "text/plain": [
       "<Figure size 432x288 with 2 Axes>"
      ]
     },
     "metadata": {
      "needs_background": "light"
     },
     "output_type": "display_data"
    }
   ],
   "source": [
    "J = 7\n",
    "pair = ifg_pairs_tiles[J]\n",
    "\n",
    "fig, axs = plt.subplots(1, 2, sharey=True, sharex=True)\n",
    "\n",
    "df_ref_plot = pair['reference']\n",
    "df_sec_plot = pair['secondary']\n",
    "\n",
    "df_ref_plot.plot(column='start_date_str', \n",
    "                 legend=True, \n",
    "                 ax=axs[0], alpha=.25)\n",
    "df_aoi.plot(ax=axs[0], alpha=.5, color='green')\n",
    "\n",
    "df_sec_plot.plot(column='start_date_str', \n",
    "                 legend=True, \n",
    "                 ax=axs[1], alpha=.25)\n",
    "df_aoi.plot(ax=axs[1], alpha=.5, color='green')"
   ]
  },
  {
   "cell_type": "code",
   "execution_count": 11,
   "metadata": {
    "ExecuteTime": {
     "end_time": "2021-11-22T22:51:58.647712Z",
     "start_time": "2021-11-22T22:51:58.377027Z"
    }
   },
   "outputs": [
    {
     "data": {
      "text/plain": [
       "<AxesSubplot:>"
      ]
     },
     "execution_count": 11,
     "metadata": {},
     "output_type": "execute_result"
    },
    {
     "data": {
      "image/png": "[encoded data removed]",
      "text/plain": [
       "<Figure size 432x288 with 2 Axes>"
      ]
     },
     "metadata": {
      "needs_background": "light"
     },
     "output_type": "display_data"
    }
   ],
   "source": [
    "J = 8\n",
    "pair = ifg_pairs_tiles[J]\n",
    "\n",
    "fig, axs = plt.subplots(1, 2, sharey=True, sharex=True)\n",
    "\n",
    "df_ref_plot = pair['reference']\n",
    "df_sec_plot = pair['secondary']\n",
    "\n",
    "df_ref_plot.plot(column='start_date_str', \n",
    "                 legend=True, \n",
    "                 ax=axs[0], alpha=.25)\n",
    "df_aoi.plot(ax=axs[0], alpha=.5, color='green')\n",
    "\n",
    "df_sec_plot.plot(column='start_date_str', \n",
    "                 legend=True, \n",
    "                 ax=axs[1], alpha=.25)\n",
    "df_aoi.plot(ax=axs[1], alpha=.5, color='green')"
   ]
  },
  {
   "cell_type": "markdown",
   "metadata": {},
   "source": [
    "# Save Enumeration to Geojson"
   ]
  },
  {
   "cell_type": "code",
   "execution_count": 12,
   "metadata": {
    "ExecuteTime": {
     "end_time": "2021-11-22T22:51:58.715717Z",
     "start_time": "2021-11-22T22:51:58.649368Z"
    }
   },
   "outputs": [],
   "source": [
    "df_pairs = distill_all_pairs(ifg_pairs_path)\n",
    "df_test = df_pairs.sort_values(by=['path_number', 'reference_date']).reset_index(drop=True)\n",
    "df_test.drop(columns=['reference', 'secondary']).to_file('enum_path.geojson')"
   ]
  }
 ],
 "metadata": {
  "interpreter": {
   "hash": "31f2aee4e71d21fbe5cf8b01ff0e069b9275f58929596ceb00d14d90e3e16cd6"
  },
  "kernelspec": {
   "display_name": "s1-enumerator",
   "language": "python",
   "name": "s1-enumerator"
  },
  "language_info": {
   "codemirror_mode": {
    "name": "ipython",
    "version": 3
   },
   "file_extension": ".py",
   "mimetype": "text/x-python",
   "name": "python",
   "nbconvert_exporter": "python",
   "pygments_lexer": "ipython3",
   "version": "3.9.7"
  }
 },
 "nbformat": 4,
 "nbformat_minor": 2
}
